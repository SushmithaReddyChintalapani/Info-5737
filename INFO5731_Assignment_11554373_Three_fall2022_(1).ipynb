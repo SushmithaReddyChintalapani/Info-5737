{
  "cells": [
    {
      "cell_type": "markdown",
      "metadata": {
        "id": "view-in-github",
        "colab_type": "text"
      },
      "source": [
        "<a href=\"https://colab.research.google.com/github/SushmithaReddyChintalapani/Info-5737/blob/main/INFO5731_Assignment_11554373_Three_fall2022_(1).ipynb\" target=\"_parent\"><img src=\"https://colab.research.google.com/assets/colab-badge.svg\" alt=\"Open In Colab\"/></a>"
      ]
    },
    {
      "cell_type": "markdown",
      "metadata": {
        "id": "USSdXHuqnwv9"
      },
      "source": [
        "# **INFO5731 Assignment Three**\n",
        "\n",
        "In this assignment, you are required to conduct information extraction, semantic analysis based on **the dataset you collected from assignment two**. You may use scipy and numpy package in this assignment."
      ]
    },
    {
      "cell_type": "markdown",
      "metadata": {
        "id": "YWxodXh5n4xF"
      },
      "source": [
        "# **Question 1: Understand N-gram**"
      ]
    },
    {
      "cell_type": "markdown",
      "metadata": {
        "id": "TenBkDJ5n95k"
      },
      "source": [
        "(45 points). Write a python program to conduct N-gram analysis based on the dataset in your assignment two:\n",
        "\n",
        "(1) Count the frequency of all the N-grams (N=3).\n",
        "\n",
        "(2) Calculate the probabilities for all the bigrams in the dataset by using the fomular count(w2 w1) / count(w2). For example, count(really like) / count(really) = 1 / 3 = 0.33.\n",
        "\n",
        "(3) Extract all the **noun phrases** and calculate the relative probabilities of each review in terms of other reviews (abstracts, or tweets) by using the fomular frequency (noun phrase) / max frequency (noun phrase) on the whole dataset. Print out the result in a table with column name the all the noun phrases and row name as all the 100 reviews (abstracts, or tweets). \n"
      ]
    },
    {
      "cell_type": "code",
      "execution_count": 30,
      "metadata": {
        "colab": {
          "base_uri": "https://localhost:8080/"
        },
        "id": "PuFPKhC0m1fd",
        "outputId": "e9d038f5-c675-4205-8121-3a307fbc405e"
      },
      "outputs": [
        {
          "output_type": "stream",
          "name": "stdout",
          "text": [
            "Looking in indexes: https://pypi.org/simple, https://us-python.pkg.dev/colab-wheels/public/simple/\n",
            "Requirement already satisfied: transformers in /usr/local/lib/python3.7/dist-packages (4.24.0)\n",
            "Requirement already satisfied: importlib-metadata in /usr/local/lib/python3.7/dist-packages (from transformers) (4.13.0)\n",
            "Requirement already satisfied: regex!=2019.12.17 in /usr/local/lib/python3.7/dist-packages (from transformers) (2022.6.2)\n",
            "Requirement already satisfied: packaging>=20.0 in /usr/local/lib/python3.7/dist-packages (from transformers) (21.3)\n",
            "Requirement already satisfied: tqdm>=4.27 in /usr/local/lib/python3.7/dist-packages (from transformers) (4.64.1)\n",
            "Requirement already satisfied: numpy>=1.17 in /usr/local/lib/python3.7/dist-packages (from transformers) (1.21.6)\n",
            "Requirement already satisfied: filelock in /usr/local/lib/python3.7/dist-packages (from transformers) (3.8.0)\n",
            "Requirement already satisfied: requests in /usr/local/lib/python3.7/dist-packages (from transformers) (2.23.0)\n",
            "Requirement already satisfied: pyyaml>=5.1 in /usr/local/lib/python3.7/dist-packages (from transformers) (6.0)\n",
            "Requirement already satisfied: huggingface-hub<1.0,>=0.10.0 in /usr/local/lib/python3.7/dist-packages (from transformers) (0.11.0)\n",
            "Requirement already satisfied: tokenizers!=0.11.3,<0.14,>=0.11.1 in /usr/local/lib/python3.7/dist-packages (from transformers) (0.13.2)\n",
            "Requirement already satisfied: typing-extensions>=3.7.4.3 in /usr/local/lib/python3.7/dist-packages (from huggingface-hub<1.0,>=0.10.0->transformers) (4.1.1)\n",
            "Requirement already satisfied: pyparsing!=3.0.5,>=2.0.2 in /usr/local/lib/python3.7/dist-packages (from packaging>=20.0->transformers) (3.0.9)\n",
            "Requirement already satisfied: zipp>=0.5 in /usr/local/lib/python3.7/dist-packages (from importlib-metadata->transformers) (3.10.0)\n",
            "Requirement already satisfied: idna<3,>=2.5 in /usr/local/lib/python3.7/dist-packages (from requests->transformers) (2.10)\n",
            "Requirement already satisfied: certifi>=2017.4.17 in /usr/local/lib/python3.7/dist-packages (from requests->transformers) (2022.9.24)\n",
            "Requirement already satisfied: urllib3!=1.25.0,!=1.25.1,<1.26,>=1.21.1 in /usr/local/lib/python3.7/dist-packages (from requests->transformers) (1.24.3)\n",
            "Requirement already satisfied: chardet<4,>=3.0.2 in /usr/local/lib/python3.7/dist-packages (from requests->transformers) (3.0.4)\n"
          ]
        },
        {
          "output_type": "stream",
          "name": "stderr",
          "text": [
            "[nltk_data] Downloading package punkt to /root/nltk_data...\n",
            "[nltk_data]   Package punkt is already up-to-date!\n",
            "[nltk_data] Downloading package wordnet to /root/nltk_data...\n",
            "[nltk_data]   Package wordnet is already up-to-date!\n"
          ]
        }
      ],
      "source": [
        "# Write your code here\n",
        "\n",
        "!pip install transformers\n",
        "\n",
        "import warnings\n",
        "import matplotlib.pyplot as plt\n",
        "import seaborn as sns\n",
        "import torch\n",
        "import transformers\n",
        "from gensim.models.phrases import Phrases, Phraser\n",
        "from gensim.models import Word2Vec\n",
        "from tensorflow.keras.callbacks import EarlyStopping, ModelCheckpoint\n",
        "from tensorflow.keras.layers import Dense\n",
        "from tensorflow.keras.models import Sequential\n",
        "import tensorflow as tf\n",
        "from nltk.classify import NaiveBayesClassifier\n",
        "from nltk.sentiment import SentimentAnalyzer\n",
        "import nltk\n",
        "from collections import Counter\n",
        "from sklearn.pipeline import Pipeline, make_pipeline\n",
        "from sklearn.metrics import accuracy_score, confusion_matrix\n",
        "from sklearn.feature_selection import chi2\n",
        "from sklearn.decomposition import PCA\n",
        "from sklearn.base import BaseEstimator, TransformerMixin\n",
        "from sklearn.model_selection import train_test_split\n",
        "from sklearn.ensemble import RandomForestClassifier, AdaBoostClassifier, AdaBoostRegressor\n",
        "from sklearn.feature_extraction.text import CountVectorizer, TfidfVectorizer\n",
        "import numpy as np\n",
        "import pandas as pd\n",
        "import time\n",
        "import pickle\n",
        "import os\n",
        "nltk.download('punkt')\n",
        "nltk.download('wordnet')\n",
        "warnings.simplefilter(action='ignore', category=FutureWarning)\n"
      ]
    },
    {
      "cell_type": "code",
      "source": [
        "from google.colab import drive\n",
        "drive.mount('/content/drive')"
      ],
      "metadata": {
        "colab": {
          "base_uri": "https://localhost:8080/"
        },
        "id": "q41_7CZs8AeQ",
        "outputId": "2b4889b1-d80e-49e8-9367-fcad15647dcc"
      },
      "execution_count": 31,
      "outputs": [
        {
          "output_type": "stream",
          "name": "stdout",
          "text": [
            "Drive already mounted at /content/drive; to attempt to forcibly remount, call drive.mount(\"/content/drive\", force_remount=True).\n"
          ]
        }
      ]
    },
    {
      "cell_type": "code",
      "source": [
        "df = pd.read_csv(\"/content/drive/MyDrive/excel files/twitter.csv\", on_bad_lines='skip')\n",
        "df[\"'polarity'\"] = df[\"'polarity'\"].map({0: 0, 2: 1, 4: 2})\n",
        "df.dropna(inplace=True)\n",
        "pd.set_option('display.max_colwidth', None)\n",
        "df.head(2)\n"
      ],
      "metadata": {
        "colab": {
          "base_uri": "https://localhost:8080/",
          "height": 191
        },
        "id": "5TGax77Jlx8t",
        "outputId": "0b253610-4dc6-48c0-be6f-562f27d893a0"
      },
      "execution_count": 32,
      "outputs": [
        {
          "output_type": "execute_result",
          "data": {
            "text/plain": [
              "   'polarity'  'id'                        'date'  'query'  'user'  \\\n",
              "0           2     3  Mon May 11 03:17:40 UTC 2009  kindle2  tpryan   \n",
              "1           2     4  Mon May 11 03:18:03 UTC 2009  kindle2  vcu451   \n",
              "\n",
              "                                                                                                            'text'  \n",
              "0  @stellargirl I loooooooovvvvvveee my Kindle2. Not that the DX is cool, but the 2 is fantastic in its own right.  \n",
              "1                                                       Reading my kindle2...  Love it... Lee childs is good read.  "
            ],
            "text/html": [
              "\n",
              "  <div id=\"df-9bbd8b84-d382-412c-8948-bd460e66997d\">\n",
              "    <div class=\"colab-df-container\">\n",
              "      <div>\n",
              "<style scoped>\n",
              "    .dataframe tbody tr th:only-of-type {\n",
              "        vertical-align: middle;\n",
              "    }\n",
              "\n",
              "    .dataframe tbody tr th {\n",
              "        vertical-align: top;\n",
              "    }\n",
              "\n",
              "    .dataframe thead th {\n",
              "        text-align: right;\n",
              "    }\n",
              "</style>\n",
              "<table border=\"1\" class=\"dataframe\">\n",
              "  <thead>\n",
              "    <tr style=\"text-align: right;\">\n",
              "      <th></th>\n",
              "      <th>'polarity'</th>\n",
              "      <th>'id'</th>\n",
              "      <th>'date'</th>\n",
              "      <th>'query'</th>\n",
              "      <th>'user'</th>\n",
              "      <th>'text'</th>\n",
              "    </tr>\n",
              "  </thead>\n",
              "  <tbody>\n",
              "    <tr>\n",
              "      <th>0</th>\n",
              "      <td>2</td>\n",
              "      <td>3</td>\n",
              "      <td>Mon May 11 03:17:40 UTC 2009</td>\n",
              "      <td>kindle2</td>\n",
              "      <td>tpryan</td>\n",
              "      <td>@stellargirl I loooooooovvvvvveee my Kindle2. Not that the DX is cool, but the 2 is fantastic in its own right.</td>\n",
              "    </tr>\n",
              "    <tr>\n",
              "      <th>1</th>\n",
              "      <td>2</td>\n",
              "      <td>4</td>\n",
              "      <td>Mon May 11 03:18:03 UTC 2009</td>\n",
              "      <td>kindle2</td>\n",
              "      <td>vcu451</td>\n",
              "      <td>Reading my kindle2...  Love it... Lee childs is good read.</td>\n",
              "    </tr>\n",
              "  </tbody>\n",
              "</table>\n",
              "</div>\n",
              "      <button class=\"colab-df-convert\" onclick=\"convertToInteractive('df-9bbd8b84-d382-412c-8948-bd460e66997d')\"\n",
              "              title=\"Convert this dataframe to an interactive table.\"\n",
              "              style=\"display:none;\">\n",
              "        \n",
              "  <svg xmlns=\"http://www.w3.org/2000/svg\" height=\"24px\"viewBox=\"0 0 24 24\"\n",
              "       width=\"24px\">\n",
              "    <path d=\"M0 0h24v24H0V0z\" fill=\"none\"/>\n",
              "    <path d=\"M18.56 5.44l.94 2.06.94-2.06 2.06-.94-2.06-.94-.94-2.06-.94 2.06-2.06.94zm-11 1L8.5 8.5l.94-2.06 2.06-.94-2.06-.94L8.5 2.5l-.94 2.06-2.06.94zm10 10l.94 2.06.94-2.06 2.06-.94-2.06-.94-.94-2.06-.94 2.06-2.06.94z\"/><path d=\"M17.41 7.96l-1.37-1.37c-.4-.4-.92-.59-1.43-.59-.52 0-1.04.2-1.43.59L10.3 9.45l-7.72 7.72c-.78.78-.78 2.05 0 2.83L4 21.41c.39.39.9.59 1.41.59.51 0 1.02-.2 1.41-.59l7.78-7.78 2.81-2.81c.8-.78.8-2.07 0-2.86zM5.41 20L4 18.59l7.72-7.72 1.47 1.35L5.41 20z\"/>\n",
              "  </svg>\n",
              "      </button>\n",
              "      \n",
              "  <style>\n",
              "    .colab-df-container {\n",
              "      display:flex;\n",
              "      flex-wrap:wrap;\n",
              "      gap: 12px;\n",
              "    }\n",
              "\n",
              "    .colab-df-convert {\n",
              "      background-color: #E8F0FE;\n",
              "      border: none;\n",
              "      border-radius: 50%;\n",
              "      cursor: pointer;\n",
              "      display: none;\n",
              "      fill: #1967D2;\n",
              "      height: 32px;\n",
              "      padding: 0 0 0 0;\n",
              "      width: 32px;\n",
              "    }\n",
              "\n",
              "    .colab-df-convert:hover {\n",
              "      background-color: #E2EBFA;\n",
              "      box-shadow: 0px 1px 2px rgba(60, 64, 67, 0.3), 0px 1px 3px 1px rgba(60, 64, 67, 0.15);\n",
              "      fill: #174EA6;\n",
              "    }\n",
              "\n",
              "    [theme=dark] .colab-df-convert {\n",
              "      background-color: #3B4455;\n",
              "      fill: #D2E3FC;\n",
              "    }\n",
              "\n",
              "    [theme=dark] .colab-df-convert:hover {\n",
              "      background-color: #434B5C;\n",
              "      box-shadow: 0px 1px 3px 1px rgba(0, 0, 0, 0.15);\n",
              "      filter: drop-shadow(0px 1px 2px rgba(0, 0, 0, 0.3));\n",
              "      fill: #FFFFFF;\n",
              "    }\n",
              "  </style>\n",
              "\n",
              "      <script>\n",
              "        const buttonEl =\n",
              "          document.querySelector('#df-9bbd8b84-d382-412c-8948-bd460e66997d button.colab-df-convert');\n",
              "        buttonEl.style.display =\n",
              "          google.colab.kernel.accessAllowed ? 'block' : 'none';\n",
              "\n",
              "        async function convertToInteractive(key) {\n",
              "          const element = document.querySelector('#df-9bbd8b84-d382-412c-8948-bd460e66997d');\n",
              "          const dataTable =\n",
              "            await google.colab.kernel.invokeFunction('convertToInteractive',\n",
              "                                                     [key], {});\n",
              "          if (!dataTable) return;\n",
              "\n",
              "          const docLinkHtml = 'Like what you see? Visit the ' +\n",
              "            '<a target=\"_blank\" href=https://colab.research.google.com/notebooks/data_table.ipynb>data table notebook</a>'\n",
              "            + ' to learn more about interactive tables.';\n",
              "          element.innerHTML = '';\n",
              "          dataTable['output_type'] = 'display_data';\n",
              "          await google.colab.output.renderOutput(dataTable, element);\n",
              "          const docLink = document.createElement('div');\n",
              "          docLink.innerHTML = docLinkHtml;\n",
              "          element.appendChild(docLink);\n",
              "        }\n",
              "      </script>\n",
              "    </div>\n",
              "  </div>\n",
              "  "
            ]
          },
          "metadata": {},
          "execution_count": 32
        }
      ]
    },
    {
      "cell_type": "code",
      "source": [
        "train, test = train_test_split(df[[\"'text'\", \"'polarity'\"]], random_state=0)\n",
        "X_train = train[\"'text'\"]\n",
        "X_test = test[\"'text'\"]\n",
        "y_train = train[\"'polarity'\"]\n",
        "y_test = test[\"'polarity'\"]"
      ],
      "metadata": {
        "id": "YfrpCcjWl2uU"
      },
      "execution_count": 33,
      "outputs": []
    },
    {
      "cell_type": "code",
      "source": [
        "def get_accuracy():\n",
        "    pipe.fit(X_train, y_train)\n",
        "    y_pred = pipe.predict(X_test)\n",
        "    return round(accuracy_score(y_pred, y_test), 3)"
      ],
      "metadata": {
        "id": "XOAfJd7rl-Bg"
      },
      "execution_count": 34,
      "outputs": []
    },
    {
      "cell_type": "markdown",
      "metadata": {
        "id": "AfpMRCrRwN6Z"
      },
      "source": [
        "# **Question 2: Undersand TF-IDF and Document representation**"
      ]
    },
    {
      "cell_type": "markdown",
      "metadata": {
        "id": "1dCQEbDawWCw"
      },
      "source": [
        "(20 points). Starting from the documents (all the reviews, or abstracts, or tweets) collected for assignment two, write a python program: \n",
        "\n",
        "(1) To build the **documents-terms weights (tf*idf) matrix bold text**.\n",
        "\n",
        "(2) To rank the documents with respect to query (design a query by yourself, for example, \"An Outstanding movie with a haunting performance and best character development\") by using **cosine similarity**."
      ]
    },
    {
      "cell_type": "code",
      "execution_count": 35,
      "metadata": {
        "id": "vATjQNTY8buA"
      },
      "outputs": [],
      "source": [
        "# Write your code here\n",
        "count_vectorizer = CountVectorizer(max_features=1000)\n",
        "random_forest = RandomForestClassifier(max_depth=10, n_estimators=10)"
      ]
    },
    {
      "cell_type": "code",
      "source": [
        "pipe = make_pipeline(count_vectorizer, random_forest)"
      ],
      "metadata": {
        "id": "abvXXFY2mEOQ"
      },
      "execution_count": 36,
      "outputs": []
    },
    {
      "cell_type": "code",
      "source": [
        "get_accuracy()"
      ],
      "metadata": {
        "colab": {
          "base_uri": "https://localhost:8080/"
        },
        "id": "ZzKprGZ1mGsq",
        "outputId": "37e3661b-9826-472f-c64d-5cca919f7092"
      },
      "execution_count": 37,
      "outputs": [
        {
          "output_type": "execute_result",
          "data": {
            "text/plain": [
              "0.552"
            ]
          },
          "metadata": {},
          "execution_count": 37
        }
      ]
    },
    {
      "cell_type": "code",
      "source": [
        "y_pred = pipe.predict(X_test)"
      ],
      "metadata": {
        "id": "cIfIfVsVmJSR"
      },
      "execution_count": 38,
      "outputs": []
    },
    {
      "cell_type": "code",
      "source": [
        "round(pd.Series(y_train).value_counts(normalize=True), 2)"
      ],
      "metadata": {
        "colab": {
          "base_uri": "https://localhost:8080/"
        },
        "id": "y7wPzjq2mMdE",
        "outputId": "1b3d40ee-7c1d-4127-c2d1-13ae8a6ffa0e"
      },
      "execution_count": 39,
      "outputs": [
        {
          "output_type": "execute_result",
          "data": {
            "text/plain": [
              "2    0.38\n",
              "0    0.37\n",
              "1    0.25\n",
              "Name: 'polarity', dtype: float64"
            ]
          },
          "metadata": {},
          "execution_count": 39
        }
      ]
    },
    {
      "cell_type": "code",
      "source": [
        "round(pd.Series(y_pred).value_counts(normalize=True), 2)"
      ],
      "metadata": {
        "colab": {
          "base_uri": "https://localhost:8080/"
        },
        "id": "SSK5xNEcmO0T",
        "outputId": "85689506-e1cb-4c11-c48c-a78eb387e171"
      },
      "execution_count": 40,
      "outputs": [
        {
          "output_type": "execute_result",
          "data": {
            "text/plain": [
              "0    0.50\n",
              "2    0.27\n",
              "1    0.22\n",
              "dtype: float64"
            ]
          },
          "metadata": {},
          "execution_count": 40
        }
      ]
    },
    {
      "cell_type": "code",
      "source": [
        "random_forest.set_params(class_weight='balanced')\n",
        "print(get_accuracy())\n",
        "random_forest.set_params(class_weight='balanced_subsample')\n",
        "print(get_accuracy())"
      ],
      "metadata": {
        "colab": {
          "base_uri": "https://localhost:8080/"
        },
        "id": "PW_J9U5HmRqC",
        "outputId": "3a6f13f6-130d-46c3-a2d7-46973589710f"
      },
      "execution_count": 41,
      "outputs": [
        {
          "output_type": "stream",
          "name": "stdout",
          "text": [
            "0.656\n",
            "0.616\n"
          ]
        }
      ]
    },
    {
      "cell_type": "code",
      "source": [
        "labels = [0, 2, 4]\n",
        "y_pred = pipe.predict(X_test)\n",
        "cm = confusion_matrix(y_test, y_pred, labels=labels)\n",
        "fig = plt.figure(figsize=(16, 8))\n",
        "ax = fig.add_subplot(111)\n",
        "cax = ax.matshow(cm)\n",
        "plt.title('Confusion matrix')\n",
        "fig.colorbar(cax)\n",
        "ax.set_xticklabels([''] + labels)\n",
        "ax.set_yticklabels([''] + labels)\n",
        "plt.xlabel('Predicted')\n",
        "plt.ylabel('True')\n",
        "plt.show()"
      ],
      "metadata": {
        "colab": {
          "base_uri": "https://localhost:8080/",
          "height": 518
        },
        "id": "vHLi6cl7mT_S",
        "outputId": "2223e4ce-c7fc-4283-f4f4-dd8be7235378"
      },
      "execution_count": 44,
      "outputs": [
        {
          "output_type": "display_data",
          "data": {
            "text/plain": [
              "<Figure size 1152x576 with 2 Axes>"
            ],
            "image/png": "[encoded data removed]"
          },
          "metadata": {
            "needs_background": "light"
          }
        }
      ]
    },
    {
      "cell_type": "code",
      "source": [
        "# taken from sklearn webpage\n",
        "from nltk import word_tokenize\n",
        "from nltk.stem import WordNetLemmatizer\n",
        "\n",
        "\n",
        "class LemmaTokenizer:\n",
        "    def __init__(self):\n",
        "        self.wnl = WordNetLemmatizer()\n",
        "\n",
        "    def __call__(self, doc):\n",
        "        return [self.wnl.lemmatize(t) for t in word_tokenize(doc)]"
      ],
      "metadata": {
        "id": "72HZrZO8mWsF"
      },
      "execution_count": 45,
      "outputs": []
    },
    {
      "cell_type": "code",
      "source": [
        "import nltk\n",
        "nltk.download('omw-1.4')\n",
        "pipe[0].set_params(tokenizer=LemmaTokenizer())\n",
        "get_accuracy()"
      ],
      "metadata": {
        "colab": {
          "base_uri": "https://localhost:8080/"
        },
        "id": "Ql_Cex2SmaA4",
        "outputId": "e89821f2-dd27-4bf4-e121-34896f1cda45"
      },
      "execution_count": 46,
      "outputs": [
        {
          "output_type": "stream",
          "name": "stderr",
          "text": [
            "[nltk_data] Downloading package omw-1.4 to /root/nltk_data...\n",
            "[nltk_data]   Package omw-1.4 is already up-to-date!\n"
          ]
        },
        {
          "output_type": "execute_result",
          "data": {
            "text/plain": [
              "0.616"
            ]
          },
          "metadata": {},
          "execution_count": 46
        }
      ]
    },
    {
      "cell_type": "code",
      "source": [
        "tfidf_vectorizer = TfidfVectorizer()\n",
        "pipe.steps[0] = ('vectorizer', tfidf_vectorizer)\n",
        "get_accuracy()"
      ],
      "metadata": {
        "colab": {
          "base_uri": "https://localhost:8080/"
        },
        "id": "_vIbhrJ5miRX",
        "outputId": "97bfcd3d-fb18-4fac-ede9-1174b02b50cc"
      },
      "execution_count": 47,
      "outputs": [
        {
          "output_type": "execute_result",
          "data": {
            "text/plain": [
              "0.568"
            ]
          },
          "metadata": {},
          "execution_count": 47
        }
      ]
    },
    {
      "cell_type": "code",
      "source": [
        "ada_boost = AdaBoostClassifier()\n",
        "pipe.steps[1] = ('adaboost', ada_boost)\n",
        "get_accuracy()"
      ],
      "metadata": {
        "colab": {
          "base_uri": "https://localhost:8080/"
        },
        "id": "vW35gqazmcNz",
        "outputId": "bf29d9e3-ffba-4111-d9c2-0a255afc9c56"
      },
      "execution_count": 48,
      "outputs": [
        {
          "output_type": "execute_result",
          "data": {
            "text/plain": [
              "0.624"
            ]
          },
          "metadata": {},
          "execution_count": 48
        }
      ]
    },
    {
      "cell_type": "code",
      "source": [
        "count_vectorizer.get_feature_names"
      ],
      "metadata": {
        "colab": {
          "base_uri": "https://localhost:8080/"
        },
        "id": "FT1YoLi4moEu",
        "outputId": "cf1fe6d9-a308-42de-e518-6f4b6e7746d3"
      },
      "execution_count": 49,
      "outputs": [
        {
          "output_type": "execute_result",
          "data": {
            "text/plain": [
              "<bound method CountVectorizer.get_feature_names of CountVectorizer(max_features=1000,\n",
              "                tokenizer=<__main__.LemmaTokenizer object at 0x7f1803707fd0>)>"
            ]
          },
          "metadata": {},
          "execution_count": 49
        }
      ]
    },
    {
      "cell_type": "code",
      "source": [
        "count_vectorizer = CountVectorizer()\n",
        "\n",
        "bow = count_vectorizer.fit_transform(X_train)\n",
        "\n",
        "words = count_vectorizer.get_feature_names()\n",
        "\n",
        "p_value_limit = 0.95\n",
        "\n",
        "dtf_features = pd.DataFrame()\n",
        "\n",
        "for cat in range(3):\n",
        "    _, p = chi2(bow, y_train == cat)\n",
        "    dtf_features = dtf_features.append(pd.DataFrame(\n",
        "        {\"feature\": words, \"score\": 1-p, \"y\": cat}))\n",
        "    dtf_features = dtf_features.sort_values([\"y\", \"score\"],\n",
        "                                            ascending=[True, False])\n",
        "    dtf_features = dtf_features[dtf_features[\"score\"] > p_value_limit]\n",
        "\n",
        "X_names = dtf_features[\"feature\"].unique().tolist()\n",
        "\n",
        "pipe['vectorizer'].set_params(vocabulary=X_names)\n",
        "\n",
        "get_accuracy()"
      ],
      "metadata": {
        "colab": {
          "base_uri": "https://localhost:8080/"
        },
        "id": "sQGj-xyLmq7K",
        "outputId": "10692dae-28d4-4a74-ada9-709ee174e952"
      },
      "execution_count": 50,
      "outputs": [
        {
          "output_type": "execute_result",
          "data": {
            "text/plain": [
              "0.624"
            ]
          },
          "metadata": {},
          "execution_count": 50
        }
      ]
    },
    {
      "cell_type": "code",
      "source": [
        "mc = ModelCheckpoint('best_model.h5', monitor='val_accuracy',\n",
        "                     mode='max', verbose=1, save_best_only=True)"
      ],
      "metadata": {
        "id": "Z9ZCoyI2mtcw"
      },
      "execution_count": 51,
      "outputs": []
    },
    {
      "cell_type": "code",
      "source": [
        "def fit_sequential(X_train, X_test, sequential=None, epochs=20, patience=5):\n",
        "\n",
        "    if sequential is None:\n",
        "        input_size = X_train.shape[1]\n",
        "\n",
        "        sequential = tf.keras.models.Sequential([\n",
        "            tf.keras.layers.Flatten(input_shape=(input_size, )),\n",
        "            tf.keras.layers.Dense(128),\n",
        "            tf.keras.layers.Dropout(0.2),\n",
        "            tf.keras.layers.Dense(3, activation='sigmoid')\n",
        "        ])\n",
        "        loss_fn = tf.keras.losses.SparseCategoricalCrossentropy(\n",
        "            from_logits=True)\n",
        "        sequential.compile(optimizer='adam', loss=loss_fn,\n",
        "                           metrics=['accuracy'])\n",
        "        global mc\n",
        "        mc = ModelCheckpoint('best_model.h5', monitor='val_accuracy',\n",
        "                             mode='max', verbose=1, save_best_only=True)\n",
        "\n",
        "    es = EarlyStopping(monitor='val_accuracy', mode='max',\n",
        "                       verbose=1, patience=patience)\n",
        "    sequential.fit(X_train, np.array(y_train), epochs=epochs, verbose=1,\n",
        "                   validation_data=(X_test, np.array(y_test)), callbacks=[es, mc])\n",
        "    sequential.load_weights('best_model.h5')\n",
        "    return sequential"
      ],
      "metadata": {
        "id": "7NMz22UomzlM"
      },
      "execution_count": 52,
      "outputs": []
    },
    {
      "cell_type": "code",
      "source": [
        "vectorizer = TfidfVectorizer()\n",
        "def convert_sparse_matrix_to_sparse_tensor(X):\n",
        "    coo = X.tocoo()\n",
        "    indices = np.mat([coo.row, coo.col]).transpose()\n",
        "    return tf.sparse.reorder(tf.SparseTensor(indices, coo.data, coo.shape))\n",
        "X_train_vectorized = vectorizer.fit_transform(X_train).toarray()\n",
        "X_test_vectorized = vectorizer.transform(X_test).toarray()\n",
        "sequential = fit_sequential(X_train_vectorized, X_test_vectorized)"
      ],
      "metadata": {
        "colab": {
          "base_uri": "https://localhost:8080/"
        },
        "id": "4wJqCMfQm1Ht",
        "outputId": "fa639992-9222-437f-e8de-31897494e5e6"
      },
      "execution_count": 53,
      "outputs": [
        {
          "output_type": "stream",
          "name": "stdout",
          "text": [
            "Epoch 1/20\n"
          ]
        },
        {
          "output_type": "stream",
          "name": "stderr",
          "text": [
            "/usr/local/lib/python3.7/dist-packages/tensorflow/python/util/dispatch.py:1082: UserWarning: \"`sparse_categorical_crossentropy` received `from_logits=True`, but the `output` argument was produced by a sigmoid or softmax activation and thus does not represent logits. Was this intended?\"\n",
            "  return dispatch_target(*args, **kwargs)\n"
          ]
        },
        {
          "output_type": "stream",
          "name": "stdout",
          "text": [
            "11/12 [==========================>...] - ETA: 0s - loss: 1.0819 - accuracy: 0.4347\n",
            "Epoch 1: val_accuracy improved from -inf to 0.48800, saving model to best_model.h5\n",
            "12/12 [==============================] - 1s 27ms/step - loss: 1.0803 - accuracy: 0.4370 - val_loss: 1.0733 - val_accuracy: 0.4880\n",
            "Epoch 2/20\n",
            "12/12 [==============================] - ETA: 0s - loss: 0.9801 - accuracy: 0.7507\n",
            "Epoch 2: val_accuracy improved from 0.48800 to 0.51200, saving model to best_model.h5\n",
            "12/12 [==============================] - 0s 12ms/step - loss: 0.9801 - accuracy: 0.7507 - val_loss: 1.0427 - val_accuracy: 0.5120\n",
            "Epoch 3/20\n",
            "12/12 [==============================] - ETA: 0s - loss: 0.8798 - accuracy: 0.8552\n",
            "Epoch 3: val_accuracy improved from 0.51200 to 0.58400, saving model to best_model.h5\n",
            "12/12 [==============================] - 0s 11ms/step - loss: 0.8798 - accuracy: 0.8552 - val_loss: 1.0065 - val_accuracy: 0.5840\n",
            "Epoch 4/20\n",
            "11/12 [==========================>...] - ETA: 0s - loss: 0.7786 - accuracy: 0.9034\n",
            "Epoch 4: val_accuracy improved from 0.58400 to 0.60000, saving model to best_model.h5\n",
            "12/12 [==============================] - 0s 12ms/step - loss: 0.7743 - accuracy: 0.9035 - val_loss: 0.9640 - val_accuracy: 0.6000\n",
            "Epoch 5/20\n",
            " 9/12 [=====================>........] - ETA: 0s - loss: 0.6757 - accuracy: 0.9444\n",
            "Epoch 5: val_accuracy did not improve from 0.60000\n",
            "12/12 [==============================] - 0s 11ms/step - loss: 0.6654 - accuracy: 0.9383 - val_loss: 0.9190 - val_accuracy: 0.5920\n",
            "Epoch 6/20\n",
            "12/12 [==============================] - ETA: 0s - loss: 0.5538 - accuracy: 0.9571\n",
            "Epoch 6: val_accuracy improved from 0.60000 to 0.64000, saving model to best_model.h5\n",
            "12/12 [==============================] - 0s 11ms/step - loss: 0.5538 - accuracy: 0.9571 - val_loss: 0.8661 - val_accuracy: 0.6400\n",
            "Epoch 7/20\n",
            "10/12 [========================>.....] - ETA: 0s - loss: 0.4547 - accuracy: 0.9719\n",
            "Epoch 7: val_accuracy improved from 0.64000 to 0.66400, saving model to best_model.h5\n",
            "12/12 [==============================] - 0s 11ms/step - loss: 0.4495 - accuracy: 0.9705 - val_loss: 0.8240 - val_accuracy: 0.6640\n",
            "Epoch 8/20\n",
            "12/12 [==============================] - ETA: 0s - loss: 0.3607 - accuracy: 0.9866\n",
            "Epoch 8: val_accuracy did not improve from 0.66400\n",
            "12/12 [==============================] - 0s 9ms/step - loss: 0.3607 - accuracy: 0.9866 - val_loss: 0.7913 - val_accuracy: 0.6640\n",
            "Epoch 9/20\n",
            "12/12 [==============================] - ETA: 0s - loss: 0.2877 - accuracy: 0.9866\n",
            "Epoch 9: val_accuracy improved from 0.66400 to 0.67200, saving model to best_model.h5\n",
            "12/12 [==============================] - 0s 12ms/step - loss: 0.2877 - accuracy: 0.9866 - val_loss: 0.7710 - val_accuracy: 0.6720\n",
            "Epoch 10/20\n",
            "11/12 [==========================>...] - ETA: 0s - loss: 0.2337 - accuracy: 0.9886\n",
            "Epoch 10: val_accuracy improved from 0.67200 to 0.68000, saving model to best_model.h5\n",
            "12/12 [==============================] - 0s 12ms/step - loss: 0.2309 - accuracy: 0.9893 - val_loss: 0.7504 - val_accuracy: 0.6800\n",
            "Epoch 11/20\n",
            "12/12 [==============================] - ETA: 0s - loss: 0.1856 - accuracy: 0.9920\n",
            "Epoch 11: val_accuracy improved from 0.68000 to 0.68800, saving model to best_model.h5\n",
            "12/12 [==============================] - 0s 12ms/step - loss: 0.1856 - accuracy: 0.9920 - val_loss: 0.7397 - val_accuracy: 0.6880\n",
            "Epoch 12/20\n",
            "10/12 [========================>.....] - ETA: 0s - loss: 0.1510 - accuracy: 0.9906\n",
            "Epoch 12: val_accuracy did not improve from 0.68800\n",
            "12/12 [==============================] - 0s 11ms/step - loss: 0.1509 - accuracy: 0.9920 - val_loss: 0.7336 - val_accuracy: 0.6880\n",
            "Epoch 13/20\n",
            " 1/12 [=>............................] - ETA: 0s - loss: 0.1519 - accuracy: 1.0000\n",
            "Epoch 13: val_accuracy did not improve from 0.68800\n",
            "12/12 [==============================] - 0s 9ms/step - loss: 0.1277 - accuracy: 0.9920 - val_loss: 0.7307 - val_accuracy: 0.6880\n",
            "Epoch 14/20\n",
            "11/12 [==========================>...] - ETA: 0s - loss: 0.1072 - accuracy: 0.9943\n",
            "Epoch 14: val_accuracy did not improve from 0.68800\n",
            "12/12 [==============================] - 0s 9ms/step - loss: 0.1056 - accuracy: 0.9946 - val_loss: 0.7300 - val_accuracy: 0.6800\n",
            "Epoch 15/20\n",
            " 1/12 [=>............................] - ETA: 0s - loss: 0.1081 - accuracy: 0.9688\n",
            "Epoch 15: val_accuracy improved from 0.68800 to 0.69600, saving model to best_model.h5\n",
            "12/12 [==============================] - 0s 10ms/step - loss: 0.0887 - accuracy: 0.9946 - val_loss: 0.7319 - val_accuracy: 0.6960\n",
            "Epoch 16/20\n",
            "11/12 [==========================>...] - ETA: 0s - loss: 0.0769 - accuracy: 1.0000\n",
            "Epoch 16: val_accuracy improved from 0.69600 to 0.70400, saving model to best_model.h5\n",
            "12/12 [==============================] - 0s 11ms/step - loss: 0.0760 - accuracy: 1.0000 - val_loss: 0.7353 - val_accuracy: 0.7040\n",
            "Epoch 17/20\n",
            "11/12 [==========================>...] - ETA: 0s - loss: 0.0657 - accuracy: 1.0000\n",
            "Epoch 17: val_accuracy did not improve from 0.70400\n",
            "12/12 [==============================] - 0s 10ms/step - loss: 0.0663 - accuracy: 1.0000 - val_loss: 0.7395 - val_accuracy: 0.7040\n",
            "Epoch 18/20\n",
            "12/12 [==============================] - ETA: 0s - loss: 0.0570 - accuracy: 1.0000\n",
            "Epoch 18: val_accuracy did not improve from 0.70400\n",
            "12/12 [==============================] - 0s 8ms/step - loss: 0.0570 - accuracy: 1.0000 - val_loss: 0.7414 - val_accuracy: 0.7040\n",
            "Epoch 19/20\n",
            " 1/12 [=>............................] - ETA: 0s - loss: 0.0501 - accuracy: 1.0000\n",
            "Epoch 19: val_accuracy did not improve from 0.70400\n",
            "12/12 [==============================] - 0s 8ms/step - loss: 0.0496 - accuracy: 1.0000 - val_loss: 0.7435 - val_accuracy: 0.7040\n",
            "Epoch 20/20\n",
            "12/12 [==============================] - ETA: 0s - loss: 0.0445 - accuracy: 1.0000\n",
            "Epoch 20: val_accuracy did not improve from 0.70400\n",
            "12/12 [==============================] - 0s 9ms/step - loss: 0.0445 - accuracy: 1.0000 - val_loss: 0.7498 - val_accuracy: 0.7040\n"
          ]
        }
      ]
    },
    {
      "cell_type": "markdown",
      "metadata": {
        "id": "1HiLrp9SjsTX"
      },
      "source": [
        "# **Question 3: Create your own word embedding model**"
      ]
    },
    {
      "cell_type": "markdown",
      "metadata": {
        "id": "BaPXDn0HjsTX"
      },
      "source": [
        "(20 points). Use the data you collected for assignment two to build a word embedding model: \n",
        "\n",
        "(1) Train a 300-dimension word embedding (it can be word2vec, glove, ulmfit, bert, or others).\n",
        "\n",
        "(2) Visualize the word embedding model you created.\n",
        "\n",
        "Reference: https://machinelearningmastery.com/develop-word-embeddings-python-gensim/\n",
        "\n",
        "Reference: https://jaketae.github.io/study/word2vec/"
      ]
    },
    {
      "cell_type": "code",
      "execution_count": 54,
      "metadata": {
        "id": "Z7cvYavUjsTX"
      },
      "outputs": [],
      "source": [
        "class W2VTransformer(BaseEstimator, TransformerMixin):\n",
        "    def __init__(self, size):\n",
        "        self.size = size\n",
        "        pass\n",
        "\n",
        "    def fit(self, X, y=None):\n",
        "        self.model = Word2Vec(min_count=1,\n",
        "                              window=2,\n",
        "                              size=self.size,\n",
        "                              sample=6e-5,\n",
        "                              alpha=0.03,\n",
        "                              min_alpha=0.0007,\n",
        "                              negative=20)\n",
        "        sentences = [row.split() for row in X]\n",
        "\n",
        "        self.model.build_vocab(sentences)\n",
        "        self.model.train(\n",
        "            sentences, total_examples=self.model.corpus_count, epochs=self.model.epochs)\n",
        "        return self\n",
        "\n",
        "    def get_vector(self, sentence):\n",
        "        relevant_words_vectors = [self.model.wv[x]\n",
        "                                  for x in sentence.split() if x in self.model.wv.vocab]\n",
        "        if not relevant_words_vectors:\n",
        "            return np.zeros(self.model.vector_size)  # .astype('float32')\n",
        "        return np.mean(relevant_words_vectors, axis=0)\n",
        "\n",
        "    def transform(self, X):\n",
        "        arr = np.array([])\n",
        "        for elem in X:\n",
        "            arr = np.concatenate([arr, self.get_vector(elem)])\n",
        "        return arr.reshape(-1, self.size)"
      ]
    },
    {
      "cell_type": "code",
      "source": [
        "vectorizer = W2VTransformer(4)\n",
        "X_train_vectorized = vectorizer.fit_transform(X_train)\n",
        "X_test_vectorized = vectorizer.transform(X_test)"
      ],
      "metadata": {
        "colab": {
          "base_uri": "https://localhost:8080/"
        },
        "id": "b6CIKgFDnF5r",
        "outputId": "14e0bf72-a007-4183-fa3b-d4e3b9173d6c"
      },
      "execution_count": 55,
      "outputs": [
        {
          "output_type": "stream",
          "name": "stderr",
          "text": [
            "WARNING:gensim.models.base_any2vec:under 10 jobs per worker: consider setting a smaller `batch_words' for smoother alpha decay\n"
          ]
        }
      ]
    },
    {
      "cell_type": "code",
      "source": [
        "sequential = fit_sequential(X_train_vectorized, X_test_vectorized)"
      ],
      "metadata": {
        "colab": {
          "base_uri": "https://localhost:8080/"
        },
        "id": "JzQLBR78kA3n",
        "outputId": "f24c9cc5-49b0-4b52-a75c-88969057aab9"
      },
      "execution_count": 56,
      "outputs": [
        {
          "output_type": "stream",
          "name": "stdout",
          "text": [
            "Epoch 1/20\n",
            " 1/12 [=>............................] - ETA: 5s - loss: 1.0983 - accuracy: 0.4062\n",
            "Epoch 1: val_accuracy improved from -inf to 0.32000, saving model to best_model.h5\n",
            "12/12 [==============================] - 1s 25ms/step - loss: 1.0949 - accuracy: 0.3539 - val_loss: 1.1072 - val_accuracy: 0.3200\n",
            "Epoch 2/20\n",
            " 1/12 [=>............................] - ETA: 0s - loss: 1.0965 - accuracy: 0.3750\n",
            "Epoch 2: val_accuracy improved from 0.32000 to 0.32800, saving model to best_model.h5\n",
            "12/12 [==============================] - 0s 9ms/step - loss: 1.0863 - accuracy: 0.3914 - val_loss: 1.1143 - val_accuracy: 0.3280\n",
            "Epoch 3/20\n",
            " 1/12 [=>............................] - ETA: 0s - loss: 1.0931 - accuracy: 0.3125\n",
            "Epoch 3: val_accuracy did not improve from 0.32800\n",
            "12/12 [==============================] - 0s 5ms/step - loss: 1.0819 - accuracy: 0.3887 - val_loss: 1.1221 - val_accuracy: 0.3120\n",
            "Epoch 4/20\n",
            " 1/12 [=>............................] - ETA: 0s - loss: 1.0428 - accuracy: 0.3750\n",
            "Epoch 4: val_accuracy improved from 0.32800 to 0.34400, saving model to best_model.h5\n",
            "12/12 [==============================] - 0s 9ms/step - loss: 1.0819 - accuracy: 0.3700 - val_loss: 1.1311 - val_accuracy: 0.3440\n",
            "Epoch 5/20\n",
            " 1/12 [=>............................] - ETA: 0s - loss: 1.1002 - accuracy: 0.4375\n",
            "Epoch 5: val_accuracy did not improve from 0.34400\n",
            "12/12 [==============================] - 0s 6ms/step - loss: 1.0797 - accuracy: 0.3887 - val_loss: 1.1351 - val_accuracy: 0.3280\n",
            "Epoch 6/20\n",
            " 1/12 [=>............................] - ETA: 0s - loss: 1.1322 - accuracy: 0.2812\n",
            "Epoch 6: val_accuracy did not improve from 0.34400\n",
            "12/12 [==============================] - 0s 6ms/step - loss: 1.0811 - accuracy: 0.3834 - val_loss: 1.1350 - val_accuracy: 0.3280\n",
            "Epoch 7/20\n",
            " 1/12 [=>............................] - ETA: 0s - loss: 1.0570 - accuracy: 0.3438\n",
            "Epoch 7: val_accuracy did not improve from 0.34400\n",
            "12/12 [==============================] - 0s 5ms/step - loss: 1.0788 - accuracy: 0.4102 - val_loss: 1.1370 - val_accuracy: 0.2640\n",
            "Epoch 8/20\n",
            " 1/12 [=>............................] - ETA: 0s - loss: 1.0793 - accuracy: 0.4688\n",
            "Epoch 8: val_accuracy did not improve from 0.34400\n",
            "12/12 [==============================] - 0s 6ms/step - loss: 1.0796 - accuracy: 0.3968 - val_loss: 1.1358 - val_accuracy: 0.2480\n",
            "Epoch 9/20\n",
            " 1/12 [=>............................] - ETA: 0s - loss: 1.0779 - accuracy: 0.4688\n",
            "Epoch 9: val_accuracy did not improve from 0.34400\n",
            "12/12 [==============================] - 0s 7ms/step - loss: 1.0780 - accuracy: 0.3887 - val_loss: 1.1373 - val_accuracy: 0.2560\n",
            "Epoch 9: early stopping\n"
          ]
        }
      ]
    },
    {
      "cell_type": "code",
      "source": [
        "pca = PCA(n_components=2)\n",
        "X_train_vectorized_2d = pca.fit_transform(X_train_vectorized)"
      ],
      "metadata": {
        "id": "ygjw4Aa5lu9A"
      },
      "execution_count": 57,
      "outputs": []
    },
    {
      "cell_type": "code",
      "source": [
        "plt.figure(figsize=(18, 9))\n",
        "_ = sns.scatterplot(\n",
        "    X_train_vectorized_2d[:, 0], X_train_vectorized_2d[:, 1], hue=y_train)"
      ],
      "metadata": {
        "colab": {
          "base_uri": "https://localhost:8080/",
          "height": 437
        },
        "id": "9BQqy4QPlw1u",
        "outputId": "88ef5bbc-035e-4de2-f734-faf2aecdb55d"
      },
      "execution_count": 58,
      "outputs": [
        {
          "output_type": "display_data",
          "data": {
            "text/plain": [
              "<Figure size 1296x648 with 1 Axes>"
            ],
            "image/png": "[encoded data removed]"
          },
          "metadata": {
            "needs_background": "light"
          }
        }
      ]
    },
    {
      "cell_type": "markdown",
      "metadata": {
        "id": "E5mmYIfN8eYV"
      },
      "source": [
        "# **Question 4: Create your own training and evaluation data for sentiment analysis**"
      ]
    },
    {
      "cell_type": "markdown",
      "metadata": {
        "id": "hsi2y4z88ngX"
      },
      "source": [
        "(15 points). **You dodn't need to write program for this question!** Read each review (abstract or tweet) you collected in detail, and annotate each review with a sentiment (positive, negative, or neutral). Save the annotated dataset into a csv file with three columns (first column: document_id, clean_text, sentiment), upload the csv file to GitHub and submit the file link blew. This datset will be used for assignment four: sentiment analysis and text classification. \n"
      ]
    },
    {
      "cell_type": "code",
      "execution_count": 59,
      "metadata": {
        "colab": {
          "base_uri": "https://localhost:8080/",
          "height": 217,
          "referenced_widgets": [
            "fa4bb3f99f9344de9913dec0853ef3b2",
            "d8aa35831ef349c6bb8caaec935d1c15",
            "b394f93c006c421f92eff645e64a636c",
            "8651db7700664421b7b42e0ec1fd800a",
            "b42085e2c52645cc8b3e9c2f2fb6269f",
            "3a06d991d58148829d92d99e9ff9d582",
            "ab90e8a1905b4b7aa066ea4fbbfe307b",
            "90f6fd6e779e4fe7b0413f0e7ee33b79",
            "425d653d9b1d4ad5801966fbabf80b3d",
            "3cdf2c6dda1745409c8c4f6babb02d0d",
            "2fbaf4a4594d43e488662ac6a1ac57c4",
            "2c201c4244ad4857851cb0a05850cff9",
            "dbe4e42571c14556a36fd066f3410c8a",
            "fe864b5ec59242668bbccd36dc8b483d",
            "a0f56178e67648e18de0214eeb7fd421",
            "43e5102f880840fca984cf0fd7853376",
            "af9125df84db485785948bc692183339",
            "40a25d3bb3f44d9da70d5b2b5a8f647f",
            "c37f3b0efde745808e7f5938d5e4a9fe",
            "8b8e3e212d484678a073efb571950233",
            "87db1d4d34b740b2be83f1db8b48bc12",
            "2017dc727bf7447199577a8d3841d1eb",
            "67aa0aa2cd324400a852a4873a0aadf5",
            "01303fa9d4204b44a5bc09f340660a7c",
            "fed79112c9964254af5b847fded71234",
            "c478d59a99f5411caf05e02b15cd903c",
            "b9c87742f9434b1e8ff9c93e34398078",
            "424651ea6c02493a88e955189cf6873a",
            "21f056dcdd474882834591d7eac4bf35",
            "6986351f0659421eaabf1bbe0f9d5740",
            "bdbd3f2fc55842c9ac4dea37b3577b5b",
            "8aae545b384740cd9b1cc3b31ab74d0c",
            "df4e55757c654cfdaab45ce05fb8d1e4",
            "153766f6b4864694b7486eba8a054515",
            "94c81fc06401405d9cb0d48e716d5da8",
            "46e9b90e03d2467cbf899cba32ea40ad",
            "038fcd9f3e684fe2aae4fd7a58bff624",
            "92e2876dd6c74cdcae11be38e1813500",
            "46040e664dbe4f0baadca3294c9868eb",
            "a3d8e98380414d20a0a9723243578017",
            "bed0dfa790994dfc959a3277af667a6e",
            "b5b3836d06664b4d99308da712536855",
            "4e655e5be04a4c2b9a60e5987d26966e",
            "b068348f7b414ff4b40c59addc9fb649"
          ]
        },
        "id": "XfvMKJjIXS5G",
        "outputId": "7ce3f195-336f-46e9-eb9b-7b2e4b473df1"
      },
      "outputs": [
        {
          "output_type": "display_data",
          "data": {
            "text/plain": [
              "Downloading:   0%|          | 0.00/232k [00:00<?, ?B/s]"
            ],
            "application/vnd.jupyter.widget-view+json": {
              "version_major": 2,
              "version_minor": 0,
              "model_id": "fa4bb3f99f9344de9913dec0853ef3b2"
            }
          },
          "metadata": {}
        },
        {
          "output_type": "display_data",
          "data": {
            "text/plain": [
              "Downloading:   0%|          | 0.00/28.0 [00:00<?, ?B/s]"
            ],
            "application/vnd.jupyter.widget-view+json": {
              "version_major": 2,
              "version_minor": 0,
              "model_id": "2c201c4244ad4857851cb0a05850cff9"
            }
          },
          "metadata": {}
        },
        {
          "output_type": "display_data",
          "data": {
            "text/plain": [
              "Downloading:   0%|          | 0.00/483 [00:00<?, ?B/s]"
            ],
            "application/vnd.jupyter.widget-view+json": {
              "version_major": 2,
              "version_minor": 0,
              "model_id": "67aa0aa2cd324400a852a4873a0aadf5"
            }
          },
          "metadata": {}
        },
        {
          "output_type": "display_data",
          "data": {
            "text/plain": [
              "Downloading:   0%|          | 0.00/268M [00:00<?, ?B/s]"
            ],
            "application/vnd.jupyter.widget-view+json": {
              "version_major": 2,
              "version_minor": 0,
              "model_id": "153766f6b4864694b7486eba8a054515"
            }
          },
          "metadata": {}
        },
        {
          "output_type": "stream",
          "name": "stderr",
          "text": [
            "Some weights of the model checkpoint at distilbert-base-uncased were not used when initializing DistilBertModel: ['vocab_transform.weight', 'vocab_layer_norm.weight', 'vocab_projector.weight', 'vocab_projector.bias', 'vocab_transform.bias', 'vocab_layer_norm.bias']\n",
            "- This IS expected if you are initializing DistilBertModel from the checkpoint of a model trained on another task or with another architecture (e.g. initializing a BertForSequenceClassification model from a BertForPreTraining model).\n",
            "- This IS NOT expected if you are initializing DistilBertModel from the checkpoint of a model that you expect to be exactly identical (initializing a BertForSequenceClassification model from a BertForSequenceClassification model).\n"
          ]
        }
      ],
      "source": [
        "\n",
        "model_class, tokenizer_class, pretrained_weights = (\n",
        "    transformers.DistilBertModel, transformers.DistilBertTokenizer, 'distilbert-base-uncased')\n",
        "tokenizer = tokenizer_class.from_pretrained(pretrained_weights)\n",
        "model = model_class.from_pretrained(pretrained_weights)"
      ]
    },
    {
      "cell_type": "code",
      "source": [
        "def get_vectors():\n",
        "    start = time.time()\n",
        "    k = 1000\n",
        "    for i in range(0, len(all_sentences), k):\n",
        "        with torch.no_grad():\n",
        "            last_hidden_states = model(\n",
        "                input_ids[i:i+k], attention_mask=input_ids[i:i+k])\n",
        "        vectors = np.concatenate([vectors, last_hidden_states[0].numpy(\n",
        "        )[:, 0, :]]) if i > 0 else last_hidden_states[0].numpy()[:, 0, :]\n",
        "    return vectors"
      ],
      "metadata": {
        "id": "4cIHYZolngsa"
      },
      "execution_count": 60,
      "outputs": []
    },
    {
      "cell_type": "code",
      "source": [
        "sequential = fit_sequential(X_train_vectorized, X_test_vectorized, epochs=10)"
      ],
      "metadata": {
        "colab": {
          "base_uri": "https://localhost:8080/"
        },
        "id": "-VfP6T5WnnU-",
        "outputId": "391f9d98-d8cb-4f92-9f3b-d3a546c24921"
      },
      "execution_count": 61,
      "outputs": [
        {
          "output_type": "stream",
          "name": "stdout",
          "text": [
            "Epoch 1/10\n"
          ]
        },
        {
          "output_type": "stream",
          "name": "stderr",
          "text": [
            "/usr/local/lib/python3.7/dist-packages/tensorflow/python/util/dispatch.py:1082: UserWarning: \"`sparse_categorical_crossentropy` received `from_logits=True`, but the `output` argument was produced by a sigmoid or softmax activation and thus does not represent logits. Was this intended?\"\n",
            "  return dispatch_target(*args, **kwargs)\n"
          ]
        },
        {
          "output_type": "stream",
          "name": "stdout",
          "text": [
            "12/12 [==============================] - ETA: 0s - loss: 1.0957 - accuracy: 0.3619\n",
            "Epoch 1: val_accuracy improved from -inf to 0.32800, saving model to best_model.h5\n",
            "12/12 [==============================] - 1s 38ms/step - loss: 1.0957 - accuracy: 0.3619 - val_loss: 1.1038 - val_accuracy: 0.3280\n",
            "Epoch 2/10\n",
            "12/12 [==============================] - ETA: 0s - loss: 1.0865 - accuracy: 0.3700\n",
            "Epoch 2: val_accuracy did not improve from 0.32800\n",
            "12/12 [==============================] - 0s 12ms/step - loss: 1.0865 - accuracy: 0.3700 - val_loss: 1.1116 - val_accuracy: 0.3200\n",
            "Epoch 3/10\n",
            "12/12 [==============================] - ETA: 0s - loss: 1.0844 - accuracy: 0.3539\n",
            "Epoch 3: val_accuracy did not improve from 0.32800\n",
            "12/12 [==============================] - 0s 10ms/step - loss: 1.0844 - accuracy: 0.3539 - val_loss: 1.1219 - val_accuracy: 0.3040\n",
            "Epoch 4/10\n",
            " 1/12 [=>............................] - ETA: 0s - loss: 1.0999 - accuracy: 0.5000\n",
            "Epoch 4: val_accuracy improved from 0.32800 to 0.34400, saving model to best_model.h5\n",
            "12/12 [==============================] - 0s 13ms/step - loss: 1.0812 - accuracy: 0.3968 - val_loss: 1.1259 - val_accuracy: 0.3440\n",
            "Epoch 5/10\n",
            "12/12 [==============================] - ETA: 0s - loss: 1.0821 - accuracy: 0.4048\n",
            "Epoch 5: val_accuracy did not improve from 0.34400\n",
            "12/12 [==============================] - 0s 10ms/step - loss: 1.0821 - accuracy: 0.4048 - val_loss: 1.1346 - val_accuracy: 0.3360\n",
            "Epoch 6/10\n",
            "12/12 [==============================] - ETA: 0s - loss: 1.0803 - accuracy: 0.3968\n",
            "Epoch 6: val_accuracy did not improve from 0.34400\n",
            "12/12 [==============================] - 0s 11ms/step - loss: 1.0803 - accuracy: 0.3968 - val_loss: 1.1336 - val_accuracy: 0.3040\n",
            "Epoch 7/10\n",
            " 1/12 [=>............................] - ETA: 0s - loss: 1.0557 - accuracy: 0.5625\n",
            "Epoch 7: val_accuracy did not improve from 0.34400\n",
            "12/12 [==============================] - 0s 13ms/step - loss: 1.0798 - accuracy: 0.3941 - val_loss: 1.1322 - val_accuracy: 0.2880\n",
            "Epoch 8/10\n",
            "10/12 [========================>.....] - ETA: 0s - loss: 1.0854 - accuracy: 0.4375\n",
            "Epoch 8: val_accuracy did not improve from 0.34400\n",
            "12/12 [==============================] - 0s 11ms/step - loss: 1.0805 - accuracy: 0.4263 - val_loss: 1.1311 - val_accuracy: 0.3120\n",
            "Epoch 9/10\n",
            "11/12 [==========================>...] - ETA: 0s - loss: 1.0823 - accuracy: 0.3665\n",
            "Epoch 9: val_accuracy did not improve from 0.34400\n",
            "12/12 [==============================] - 0s 11ms/step - loss: 1.0788 - accuracy: 0.3807 - val_loss: 1.1348 - val_accuracy: 0.3440\n",
            "Epoch 9: early stopping\n"
          ]
        }
      ]
    },
    {
      "cell_type": "code",
      "source": [
        "vectorizer = W2VTransformer(4)\n",
        "X_train_vectorized = vectorizer.fit_transform(X_train)\n",
        "X_test_vectorized = vectorizer.transform(X_test)\n",
        "sequential = fit_sequential(X_train_vectorized, X_test_vectorized)\n",
        "mapper = {0: \"negative\", 1: \"neutral\", 2: \"positive\"}\n",
        "\n",
        "\n",
        "def get_sentiment(model, vectorizer, mapper, text):\n",
        "    return mapper.get(np.argmax(max(model.predict(vectorizer.transform(pd.Series([text]))))))"
      ],
      "metadata": {
        "colab": {
          "base_uri": "https://localhost:8080/"
        },
        "id": "TViS9k14nu4q",
        "outputId": "79ae1f43-89c2-4ad2-9949-a1658c004747"
      },
      "execution_count": null,
      "outputs": [
        {
          "output_type": "stream",
          "name": "stderr",
          "text": [
            "WARNING:gensim.models.base_any2vec:under 10 jobs per worker: consider setting a smaller `batch_words' for smoother alpha decay\n"
          ]
        },
        {
          "output_type": "stream",
          "name": "stdout",
          "text": [
            "Epoch 1/20\n",
            " 9/12 [=====================>........] - ETA: 0s - loss: 1.0948 - accuracy: 0.3438 \n",
            "Epoch 1: val_accuracy improved from -inf to 0.36800, saving model to best_model.h5\n",
            "12/12 [==============================] - 2s 84ms/step - loss: 1.0931 - accuracy: 0.3727 - val_loss: 1.1029 - val_accuracy: 0.3680\n",
            "Epoch 2/20\n",
            "11/12 [==========================>...] - ETA: 0s - loss: 1.0875 - accuracy: 0.3665\n",
            "Epoch 2: val_accuracy did not improve from 0.36800\n",
            "12/12 [==============================] - 0s 12ms/step - loss: 1.0858 - accuracy: 0.3700 - val_loss: 1.1097 - val_accuracy: 0.3360\n",
            "Epoch 3/20\n",
            " 9/12 [=====================>........] - ETA: 0s - loss: 1.0758 - accuracy: 0.4167\n",
            "Epoch 3: val_accuracy improved from 0.36800 to 0.38400, saving model to best_model.h5\n",
            "12/12 [==============================] - 0s 32ms/step - loss: 1.0827 - accuracy: 0.3968 - val_loss: 1.1196 - val_accuracy: 0.3840\n",
            "Epoch 4/20\n",
            "10/12 [========================>.....] - ETA: 0s - loss: 1.0789 - accuracy: 0.3750\n",
            "Epoch 4: val_accuracy did not improve from 0.38400\n",
            "12/12 [==============================] - 0s 18ms/step - loss: 1.0809 - accuracy: 0.3619 - val_loss: 1.1234 - val_accuracy: 0.3600\n",
            "Epoch 5/20\n",
            " 7/12 [================>.............] - ETA: 0s - loss: 1.0653 - accuracy: 0.4643\n",
            "Epoch 5: val_accuracy did not improve from 0.38400\n",
            "12/12 [==============================] - 0s 21ms/step - loss: 1.0798 - accuracy: 0.4075 - val_loss: 1.1282 - val_accuracy: 0.3680\n",
            "Epoch 6/20\n",
            " 8/12 [===================>..........] - ETA: 0s - loss: 1.0771 - accuracy: 0.3711\n",
            "Epoch 6: val_accuracy did not improve from 0.38400\n",
            "12/12 [==============================] - 0s 20ms/step - loss: 1.0778 - accuracy: 0.3995 - val_loss: 1.1266 - val_accuracy: 0.3600\n",
            "Epoch 7/20\n",
            "12/12 [==============================] - ETA: 0s - loss: 1.0771 - accuracy: 0.4182\n",
            "Epoch 7: val_accuracy did not improve from 0.38400\n",
            "12/12 [==============================] - 0s 23ms/step - loss: 1.0771 - accuracy: 0.4182 - val_loss: 1.1255 - val_accuracy: 0.3280\n",
            "Epoch 8/20\n",
            "11/12 [==========================>...] - ETA: 0s - loss: 1.0798 - accuracy: 0.4205\n",
            "Epoch 8: val_accuracy did not improve from 0.38400\n",
            "12/12 [==============================] - 0s 25ms/step - loss: 1.0767 - accuracy: 0.4343 - val_loss: 1.1283 - val_accuracy: 0.3520\n",
            "Epoch 8: early stopping\n"
          ]
        }
      ]
    },
    {
      "cell_type": "code",
      "source": [
        "get_sentiment(sequential, vectorizer, mapper, \"The new big one is huge\")"
      ],
      "metadata": {
        "id": "Ilj8fytSDaCm"
      },
      "execution_count": null,
      "outputs": []
    },
    {
      "cell_type": "code",
      "source": [
        "#link \n",
        "https://github.com/SushmithaReddyChintalapani/labassignment-04/blob/main/twitter.csv\n"
      ],
      "metadata": {
        "id": "5zvxmmH4qsY-"
      },
      "execution_count": null,
      "outputs": []
    }
  ],
  "metadata": {
    "colab": {
      "provenance": [],
      "include_colab_link": true
    },
    "kernelspec": {
      "display_name": "Python 3 (ipykernel)",
      "language": "python",
      "name": "python3"
    },
    "language_info": {
      "codemirror_mode": {
        "name": "ipython",
        "version": 3
      },
      "file_extension": ".py",
      "mimetype": "text/x-python",
      "name": "python",
      "nbconvert_exporter": "python",
      "pygments_lexer": "ipython3",
      "version": "3.9.12"
    },
    "widgets": {
      "application/vnd.jupyter.widget-state+json": {
        "fa4bb3f99f9344de9913dec0853ef3b2": {
          "model_module": "@jupyter-widgets/controls",
          "model_name": "HBoxModel",
          "model_module_version": "1.5.0",
          "state": {
            "_dom_classes": [],
            "_model_module": "@jupyter-widgets/controls",
            "_model_module_version": "1.5.0",
            "_model_name": "HBoxModel",
            "_view_count": null,
            "_view_module": "@jupyter-widgets/controls",
            "_view_module_version": "1.5.0",
            "_view_name": "HBoxView",
            "box_style": "",
            "children": [
              "IPY_MODEL_d8aa35831ef349c6bb8caaec935d1c15",
              "IPY_MODEL_b394f93c006c421f92eff645e64a636c",
              "IPY_MODEL_8651db7700664421b7b42e0ec1fd800a"
            ],
            "layout": "IPY_MODEL_b42085e2c52645cc8b3e9c2f2fb6269f"
          }
        },
        "d8aa35831ef349c6bb8caaec935d1c15": {
          "model_module": "@jupyter-widgets/controls",
          "model_name": "HTMLModel",
          "model_module_version": "1.5.0",
          "state": {
            "_dom_classes": [],
            "_model_module": "@jupyter-widgets/controls",
            "_model_module_version": "1.5.0",
            "_model_name": "HTMLModel",
            "_view_count": null,
            "_view_module": "@jupyter-widgets/controls",
            "_view_module_version": "1.5.0",
            "_view_name": "HTMLView",
            "description": "",
            "description_tooltip": null,
            "layout": "IPY_MODEL_3a06d991d58148829d92d99e9ff9d582",
            "placeholder": "​",
            "style": "IPY_MODEL_ab90e8a1905b4b7aa066ea4fbbfe307b",
            "value": "Downloading: 100%"
          }
        },
        "b394f93c006c421f92eff645e64a636c": {
          "model_module": "@jupyter-widgets/controls",
          "model_name": "FloatProgressModel",
          "model_module_version": "1.5.0",
          "state": {
            "_dom_classes": [],
            "_model_module": "@jupyter-widgets/controls",
            "_model_module_version": "1.5.0",
            "_model_name": "FloatProgressModel",
            "_view_count": null,
            "_view_module": "@jupyter-widgets/controls",
            "_view_module_version": "1.5.0",
            "_view_name": "ProgressView",
            "bar_style": "success",
            "description": "",
            "description_tooltip": null,
            "layout": "IPY_MODEL_90f6fd6e779e4fe7b0413f0e7ee33b79",
            "max": 231508,
            "min": 0,
            "orientation": "horizontal",
            "style": "IPY_MODEL_425d653d9b1d4ad5801966fbabf80b3d",
            "value": 231508
          }
        },
        "8651db7700664421b7b42e0ec1fd800a": {
          "model_module": "@jupyter-widgets/controls",
          "model_name": "HTMLModel",
          "model_module_version": "1.5.0",
          "state": {
            "_dom_classes": [],
            "_model_module": "@jupyter-widgets/controls",
            "_model_module_version": "1.5.0",
            "_model_name": "HTMLModel",
            "_view_count": null,
            "_view_module": "@jupyter-widgets/controls",
            "_view_module_version": "1.5.0",
            "_view_name": "HTMLView",
            "description": "",
            "description_tooltip": null,
            "layout": "IPY_MODEL_3cdf2c6dda1745409c8c4f6babb02d0d",
            "placeholder": "​",
            "style": "IPY_MODEL_2fbaf4a4594d43e488662ac6a1ac57c4",
            "value": " 232k/232k [00:00&lt;00:00, 2.34MB/s]"
          }
        },
        "b42085e2c52645cc8b3e9c2f2fb6269f": {
          "model_module": "@jupyter-widgets/base",
          "model_name": "LayoutModel",
          "model_module_version": "1.2.0",
          "state": {
            "_model_module": "@jupyter-widgets/base",
            "_model_module_version": "1.2.0",
            "_model_name": "LayoutModel",
            "_view_count": null,
            "_view_module": "@jupyter-widgets/base",
            "_view_module_version": "1.2.0",
            "_view_name": "LayoutView",
            "align_content": null,
            "align_items": null,
            "align_self": null,
            "border": null,
            "bottom": null,
            "display": null,
            "flex": null,
            "flex_flow": null,
            "grid_area": null,
            "grid_auto_columns": null,
            "grid_auto_flow": null,
            "grid_auto_rows": null,
            "grid_column": null,
            "grid_gap": null,
            "grid_row": null,
            "grid_template_areas": null,
            "grid_template_columns": null,
            "grid_template_rows": null,
            "height": null,
            "justify_content": null,
            "justify_items": null,
            "left": null,
            "margin": null,
            "max_height": null,
            "max_width": null,
            "min_height": null,
            "min_width": null,
            "object_fit": null,
            "object_position": null,
            "order": null,
            "overflow": null,
            "overflow_x": null,
            "overflow_y": null,
            "padding": null,
            "right": null,
            "top": null,
            "visibility": null,
            "width": null
          }
        },
        "3a06d991d58148829d92d99e9ff9d582": {
          "model_module": "@jupyter-widgets/base",
          "model_name": "LayoutModel",
          "model_module_version": "1.2.0",
          "state": {
            "_model_module": "@jupyter-widgets/base",
            "_model_module_version": "1.2.0",
            "_model_name": "LayoutModel",
            "_view_count": null,
            "_view_module": "@jupyter-widgets/base",
            "_view_module_version": "1.2.0",
            "_view_name": "LayoutView",
            "align_content": null,
            "align_items": null,
            "align_self": null,
            "border": null,
            "bottom": null,
            "display": null,
            "flex": null,
            "flex_flow": null,
            "grid_area": null,
            "grid_auto_columns": null,
            "grid_auto_flow": null,
            "grid_auto_rows": null,
            "grid_column": null,
            "grid_gap": null,
            "grid_row": null,
            "grid_template_areas": null,
            "grid_template_columns": null,
            "grid_template_rows": null,
            "height": null,
            "justify_content": null,
            "justify_items": null,
            "left": null,
            "margin": null,
            "max_height": null,
            "max_width": null,
            "min_height": null,
            "min_width": null,
            "object_fit": null,
            "object_position": null,
            "order": null,
            "overflow": null,
            "overflow_x": null,
            "overflow_y": null,
            "padding": null,
            "right": null,
            "top": null,
            "visibility": null,
            "width": null
          }
        },
        "ab90e8a1905b4b7aa066ea4fbbfe307b": {
          "model_module": "@jupyter-widgets/controls",
          "model_name": "DescriptionStyleModel",
          "model_module_version": "1.5.0",
          "state": {
            "_model_module": "@jupyter-widgets/controls",
            "_model_module_version": "1.5.0",
            "_model_name": "DescriptionStyleModel",
            "_view_count": null,
            "_view_module": "@jupyter-widgets/base",
            "_view_module_version": "1.2.0",
            "_view_name": "StyleView",
            "description_width": ""
          }
        },
        "90f6fd6e779e4fe7b0413f0e7ee33b79": {
          "model_module": "@jupyter-widgets/base",
          "model_name": "LayoutModel",
          "model_module_version": "1.2.0",
          "state": {
            "_model_module": "@jupyter-widgets/base",
            "_model_module_version": "1.2.0",
            "_model_name": "LayoutModel",
            "_view_count": null,
            "_view_module": "@jupyter-widgets/base",
            "_view_module_version": "1.2.0",
            "_view_name": "LayoutView",
            "align_content": null,
            "align_items": null,
            "align_self": null,
            "border": null,
            "bottom": null,
            "display": null,
            "flex": null,
            "flex_flow": null,
            "grid_area": null,
            "grid_auto_columns": null,
            "grid_auto_flow": null,
            "grid_auto_rows": null,
            "grid_column": null,
            "grid_gap": null,
            "grid_row": null,
            "grid_template_areas": null,
            "grid_template_columns": null,
            "grid_template_rows": null,
            "height": null,
            "justify_content": null,
            "justify_items": null,
            "left": null,
            "margin": null,
            "max_height": null,
            "max_width": null,
            "min_height": null,
            "min_width": null,
            "object_fit": null,
            "object_position": null,
            "order": null,
            "overflow": null,
            "overflow_x": null,
            "overflow_y": null,
            "padding": null,
            "right": null,
            "top": null,
            "visibility": null,
            "width": null
          }
        },
        "425d653d9b1d4ad5801966fbabf80b3d": {
          "model_module": "@jupyter-widgets/controls",
          "model_name": "ProgressStyleModel",
          "model_module_version": "1.5.0",
          "state": {
            "_model_module": "@jupyter-widgets/controls",
            "_model_module_version": "1.5.0",
            "_model_name": "ProgressStyleModel",
            "_view_count": null,
            "_view_module": "@jupyter-widgets/base",
            "_view_module_version": "1.2.0",
            "_view_name": "StyleView",
            "bar_color": null,
            "description_width": ""
          }
        },
        "3cdf2c6dda1745409c8c4f6babb02d0d": {
          "model_module": "@jupyter-widgets/base",
          "model_name": "LayoutModel",
          "model_module_version": "1.2.0",
          "state": {
            "_model_module": "@jupyter-widgets/base",
            "_model_module_version": "1.2.0",
            "_model_name": "LayoutModel",
            "_view_count": null,
            "_view_module": "@jupyter-widgets/base",
            "_view_module_version": "1.2.0",
            "_view_name": "LayoutView",
            "align_content": null,
            "align_items": null,
            "align_self": null,
            "border": null,
            "bottom": null,
            "display": null,
            "flex": null,
            "flex_flow": null,
            "grid_area": null,
            "grid_auto_columns": null,
            "grid_auto_flow": null,
            "grid_auto_rows": null,
            "grid_column": null,
            "grid_gap": null,
            "grid_row": null,
            "grid_template_areas": null,
            "grid_template_columns": null,
            "grid_template_rows": null,
            "height": null,
            "justify_content": null,
            "justify_items": null,
            "left": null,
            "margin": null,
            "max_height": null,
            "max_width": null,
            "min_height": null,
            "min_width": null,
            "object_fit": null,
            "object_position": null,
            "order": null,
            "overflow": null,
            "overflow_x": null,
            "overflow_y": null,
            "padding": null,
            "right": null,
            "top": null,
            "visibility": null,
            "width": null
          }
        },
        "2fbaf4a4594d43e488662ac6a1ac57c4": {
          "model_module": "@jupyter-widgets/controls",
          "model_name": "DescriptionStyleModel",
          "model_module_version": "1.5.0",
          "state": {
            "_model_module": "@jupyter-widgets/controls",
            "_model_module_version": "1.5.0",
            "_model_name": "DescriptionStyleModel",
            "_view_count": null,
            "_view_module": "@jupyter-widgets/base",
            "_view_module_version": "1.2.0",
            "_view_name": "StyleView",
            "description_width": ""
          }
        },
        "2c201c4244ad4857851cb0a05850cff9": {
          "model_module": "@jupyter-widgets/controls",
          "model_name": "HBoxModel",
          "model_module_version": "1.5.0",
          "state": {
            "_dom_classes": [],
            "_model_module": "@jupyter-widgets/controls",
            "_model_module_version": "1.5.0",
            "_model_name": "HBoxModel",
            "_view_count": null,
            "_view_module": "@jupyter-widgets/controls",
            "_view_module_version": "1.5.0",
            "_view_name": "HBoxView",
            "box_style": "",
            "children": [
              "IPY_MODEL_dbe4e42571c14556a36fd066f3410c8a",
              "IPY_MODEL_fe864b5ec59242668bbccd36dc8b483d",
              "IPY_MODEL_a0f56178e67648e18de0214eeb7fd421"
            ],
            "layout": "IPY_MODEL_43e5102f880840fca984cf0fd7853376"
          }
        },
        "dbe4e42571c14556a36fd066f3410c8a": {
          "model_module": "@jupyter-widgets/controls",
          "model_name": "HTMLModel",
          "model_module_version": "1.5.0",
          "state": {
            "_dom_classes": [],
            "_model_module": "@jupyter-widgets/controls",
            "_model_module_version": "1.5.0",
            "_model_name": "HTMLModel",
            "_view_count": null,
            "_view_module": "@jupyter-widgets/controls",
            "_view_module_version": "1.5.0",
            "_view_name": "HTMLView",
            "description": "",
            "description_tooltip": null,
            "layout": "IPY_MODEL_af9125df84db485785948bc692183339",
            "placeholder": "​",
            "style": "IPY_MODEL_40a25d3bb3f44d9da70d5b2b5a8f647f",
            "value": "Downloading: 100%"
          }
        },
        "fe864b5ec59242668bbccd36dc8b483d": {
          "model_module": "@jupyter-widgets/controls",
          "model_name": "FloatProgressModel",
          "model_module_version": "1.5.0",
          "state": {
            "_dom_classes": [],
            "_model_module": "@jupyter-widgets/controls",
            "_model_module_version": "1.5.0",
            "_model_name": "FloatProgressModel",
            "_view_count": null,
            "_view_module": "@jupyter-widgets/controls",
            "_view_module_version": "1.5.0",
            "_view_name": "ProgressView",
            "bar_style": "success",
            "description": "",
            "description_tooltip": null,
            "layout": "IPY_MODEL_c37f3b0efde745808e7f5938d5e4a9fe",
            "max": 28,
            "min": 0,
            "orientation": "horizontal",
            "style": "IPY_MODEL_8b8e3e212d484678a073efb571950233",
            "value": 28
          }
        },
        "a0f56178e67648e18de0214eeb7fd421": {
          "model_module": "@jupyter-widgets/controls",
          "model_name": "HTMLModel",
          "model_module_version": "1.5.0",
          "state": {
            "_dom_classes": [],
            "_model_module": "@jupyter-widgets/controls",
            "_model_module_version": "1.5.0",
            "_model_name": "HTMLModel",
            "_view_count": null,
            "_view_module": "@jupyter-widgets/controls",
            "_view_module_version": "1.5.0",
            "_view_name": "HTMLView",
            "description": "",
            "description_tooltip": null,
            "layout": "IPY_MODEL_87db1d4d34b740b2be83f1db8b48bc12",
            "placeholder": "​",
            "style": "IPY_MODEL_2017dc727bf7447199577a8d3841d1eb",
            "value": " 28.0/28.0 [00:00&lt;00:00, 570B/s]"
          }
        },
        "43e5102f880840fca984cf0fd7853376": {
          "model_module": "@jupyter-widgets/base",
          "model_name": "LayoutModel",
          "model_module_version": "1.2.0",
          "state": {
            "_model_module": "@jupyter-widgets/base",
            "_model_module_version": "1.2.0",
            "_model_name": "LayoutModel",
            "_view_count": null,
            "_view_module": "@jupyter-widgets/base",
            "_view_module_version": "1.2.0",
            "_view_name": "LayoutView",
            "align_content": null,
            "align_items": null,
            "align_self": null,
            "border": null,
            "bottom": null,
            "display": null,
            "flex": null,
            "flex_flow": null,
            "grid_area": null,
            "grid_auto_columns": null,
            "grid_auto_flow": null,
            "grid_auto_rows": null,
            "grid_column": null,
            "grid_gap": null,
            "grid_row": null,
            "grid_template_areas": null,
            "grid_template_columns": null,
            "grid_template_rows": null,
            "height": null,
            "justify_content": null,
            "justify_items": null,
            "left": null,
            "margin": null,
            "max_height": null,
            "max_width": null,
            "min_height": null,
            "min_width": null,
            "object_fit": null,
            "object_position": null,
            "order": null,
            "overflow": null,
            "overflow_x": null,
            "overflow_y": null,
            "padding": null,
            "right": null,
            "top": null,
            "visibility": null,
            "width": null
          }
        },
        "af9125df84db485785948bc692183339": {
          "model_module": "@jupyter-widgets/base",
          "model_name": "LayoutModel",
          "model_module_version": "1.2.0",
          "state": {
            "_model_module": "@jupyter-widgets/base",
            "_model_module_version": "1.2.0",
            "_model_name": "LayoutModel",
            "_view_count": null,
            "_view_module": "@jupyter-widgets/base",
            "_view_module_version": "1.2.0",
            "_view_name": "LayoutView",
            "align_content": null,
            "align_items": null,
            "align_self": null,
            "border": null,
            "bottom": null,
            "display": null,
            "flex": null,
            "flex_flow": null,
            "grid_area": null,
            "grid_auto_columns": null,
            "grid_auto_flow": null,
            "grid_auto_rows": null,
            "grid_column": null,
            "grid_gap": null,
            "grid_row": null,
            "grid_template_areas": null,
            "grid_template_columns": null,
            "grid_template_rows": null,
            "height": null,
            "justify_content": null,
            "justify_items": null,
            "left": null,
            "margin": null,
            "max_height": null,
            "max_width": null,
            "min_height": null,
            "min_width": null,
            "object_fit": null,
            "object_position": null,
            "order": null,
            "overflow": null,
            "overflow_x": null,
            "overflow_y": null,
            "padding": null,
            "right": null,
            "top": null,
            "visibility": null,
            "width": null
          }
        },
        "40a25d3bb3f44d9da70d5b2b5a8f647f": {
          "model_module": "@jupyter-widgets/controls",
          "model_name": "DescriptionStyleModel",
          "model_module_version": "1.5.0",
          "state": {
            "_model_module": "@jupyter-widgets/controls",
            "_model_module_version": "1.5.0",
            "_model_name": "DescriptionStyleModel",
            "_view_count": null,
            "_view_module": "@jupyter-widgets/base",
            "_view_module_version": "1.2.0",
            "_view_name": "StyleView",
            "description_width": ""
          }
        },
        "c37f3b0efde745808e7f5938d5e4a9fe": {
          "model_module": "@jupyter-widgets/base",
          "model_name": "LayoutModel",
          "model_module_version": "1.2.0",
          "state": {
            "_model_module": "@jupyter-widgets/base",
            "_model_module_version": "1.2.0",
            "_model_name": "LayoutModel",
            "_view_count": null,
            "_view_module": "@jupyter-widgets/base",
            "_view_module_version": "1.2.0",
            "_view_name": "LayoutView",
            "align_content": null,
            "align_items": null,
            "align_self": null,
            "border": null,
            "bottom": null,
            "display": null,
            "flex": null,
            "flex_flow": null,
            "grid_area": null,
            "grid_auto_columns": null,
            "grid_auto_flow": null,
            "grid_auto_rows": null,
            "grid_column": null,
            "grid_gap": null,
            "grid_row": null,
            "grid_template_areas": null,
            "grid_template_columns": null,
            "grid_template_rows": null,
            "height": null,
            "justify_content": null,
            "justify_items": null,
            "left": null,
            "margin": null,
            "max_height": null,
            "max_width": null,
            "min_height": null,
            "min_width": null,
            "object_fit": null,
            "object_position": null,
            "order": null,
            "overflow": null,
            "overflow_x": null,
            "overflow_y": null,
            "padding": null,
            "right": null,
            "top": null,
            "visibility": null,
            "width": null
          }
        },
        "8b8e3e212d484678a073efb571950233": {
          "model_module": "@jupyter-widgets/controls",
          "model_name": "ProgressStyleModel",
          "model_module_version": "1.5.0",
          "state": {
            "_model_module": "@jupyter-widgets/controls",
            "_model_module_version": "1.5.0",
            "_model_name": "ProgressStyleModel",
            "_view_count": null,
            "_view_module": "@jupyter-widgets/base",
            "_view_module_version": "1.2.0",
            "_view_name": "StyleView",
            "bar_color": null,
            "description_width": ""
          }
        },
        "87db1d4d34b740b2be83f1db8b48bc12": {
          "model_module": "@jupyter-widgets/base",
          "model_name": "LayoutModel",
          "model_module_version": "1.2.0",
          "state": {
            "_model_module": "@jupyter-widgets/base",
            "_model_module_version": "1.2.0",
            "_model_name": "LayoutModel",
            "_view_count": null,
            "_view_module": "@jupyter-widgets/base",
            "_view_module_version": "1.2.0",
            "_view_name": "LayoutView",
            "align_content": null,
            "align_items": null,
            "align_self": null,
            "border": null,
            "bottom": null,
            "display": null,
            "flex": null,
            "flex_flow": null,
            "grid_area": null,
            "grid_auto_columns": null,
            "grid_auto_flow": null,
            "grid_auto_rows": null,
            "grid_column": null,
            "grid_gap": null,
            "grid_row": null,
            "grid_template_areas": null,
            "grid_template_columns": null,
            "grid_template_rows": null,
            "height": null,
            "justify_content": null,
            "justify_items": null,
            "left": null,
            "margin": null,
            "max_height": null,
            "max_width": null,
            "min_height": null,
            "min_width": null,
            "object_fit": null,
            "object_position": null,
            "order": null,
            "overflow": null,
            "overflow_x": null,
            "overflow_y": null,
            "padding": null,
            "right": null,
            "top": null,
            "visibility": null,
            "width": null
          }
        },
        "2017dc727bf7447199577a8d3841d1eb": {
          "model_module": "@jupyter-widgets/controls",
          "model_name": "DescriptionStyleModel",
          "model_module_version": "1.5.0",
          "state": {
            "_model_module": "@jupyter-widgets/controls",
            "_model_module_version": "1.5.0",
            "_model_name": "DescriptionStyleModel",
            "_view_count": null,
            "_view_module": "@jupyter-widgets/base",
            "_view_module_version": "1.2.0",
            "_view_name": "StyleView",
            "description_width": ""
          }
        },
        "67aa0aa2cd324400a852a4873a0aadf5": {
          "model_module": "@jupyter-widgets/controls",
          "model_name": "HBoxModel",
          "model_module_version": "1.5.0",
          "state": {
            "_dom_classes": [],
            "_model_module": "@jupyter-widgets/controls",
            "_model_module_version": "1.5.0",
            "_model_name": "HBoxModel",
            "_view_count": null,
            "_view_module": "@jupyter-widgets/controls",
            "_view_module_version": "1.5.0",
            "_view_name": "HBoxView",
            "box_style": "",
            "children": [
              "IPY_MODEL_01303fa9d4204b44a5bc09f340660a7c",
              "IPY_MODEL_fed79112c9964254af5b847fded71234",
              "IPY_MODEL_c478d59a99f5411caf05e02b15cd903c"
            ],
            "layout": "IPY_MODEL_b9c87742f9434b1e8ff9c93e34398078"
          }
        },
        "01303fa9d4204b44a5bc09f340660a7c": {
          "model_module": "@jupyter-widgets/controls",
          "model_name": "HTMLModel",
          "model_module_version": "1.5.0",
          "state": {
            "_dom_classes": [],
            "_model_module": "@jupyter-widgets/controls",
            "_model_module_version": "1.5.0",
            "_model_name": "HTMLModel",
            "_view_count": null,
            "_view_module": "@jupyter-widgets/controls",
            "_view_module_version": "1.5.0",
            "_view_name": "HTMLView",
            "description": "",
            "description_tooltip": null,
            "layout": "IPY_MODEL_424651ea6c02493a88e955189cf6873a",
            "placeholder": "​",
            "style": "IPY_MODEL_21f056dcdd474882834591d7eac4bf35",
            "value": "Downloading: 100%"
          }
        },
        "fed79112c9964254af5b847fded71234": {
          "model_module": "@jupyter-widgets/controls",
          "model_name": "FloatProgressModel",
          "model_module_version": "1.5.0",
          "state": {
            "_dom_classes": [],
            "_model_module": "@jupyter-widgets/controls",
            "_model_module_version": "1.5.0",
            "_model_name": "FloatProgressModel",
            "_view_count": null,
            "_view_module": "@jupyter-widgets/controls",
            "_view_module_version": "1.5.0",
            "_view_name": "ProgressView",
            "bar_style": "success",
            "description": "",
            "description_tooltip": null,
            "layout": "IPY_MODEL_6986351f0659421eaabf1bbe0f9d5740",
            "max": 483,
            "min": 0,
            "orientation": "horizontal",
            "style": "IPY_MODEL_bdbd3f2fc55842c9ac4dea37b3577b5b",
            "value": 483
          }
        },
        "c478d59a99f5411caf05e02b15cd903c": {
          "model_module": "@jupyter-widgets/controls",
          "model_name": "HTMLModel",
          "model_module_version": "1.5.0",
          "state": {
            "_dom_classes": [],
            "_model_module": "@jupyter-widgets/controls",
            "_model_module_version": "1.5.0",
            "_model_name": "HTMLModel",
            "_view_count": null,
            "_view_module": "@jupyter-widgets/controls",
            "_view_module_version": "1.5.0",
            "_view_name": "HTMLView",
            "description": "",
            "description_tooltip": null,
            "layout": "IPY_MODEL_8aae545b384740cd9b1cc3b31ab74d0c",
            "placeholder": "​",
            "style": "IPY_MODEL_df4e55757c654cfdaab45ce05fb8d1e4",
            "value": " 483/483 [00:00&lt;00:00, 9.36kB/s]"
          }
        },
        "b9c87742f9434b1e8ff9c93e34398078": {
          "model_module": "@jupyter-widgets/base",
          "model_name": "LayoutModel",
          "model_module_version": "1.2.0",
          "state": {
            "_model_module": "@jupyter-widgets/base",
            "_model_module_version": "1.2.0",
            "_model_name": "LayoutModel",
            "_view_count": null,
            "_view_module": "@jupyter-widgets/base",
            "_view_module_version": "1.2.0",
            "_view_name": "LayoutView",
            "align_content": null,
            "align_items": null,
            "align_self": null,
            "border": null,
            "bottom": null,
            "display": null,
            "flex": null,
            "flex_flow": null,
            "grid_area": null,
            "grid_auto_columns": null,
            "grid_auto_flow": null,
            "grid_auto_rows": null,
            "grid_column": null,
            "grid_gap": null,
            "grid_row": null,
            "grid_template_areas": null,
            "grid_template_columns": null,
            "grid_template_rows": null,
            "height": null,
            "justify_content": null,
            "justify_items": null,
            "left": null,
            "margin": null,
            "max_height": null,
            "max_width": null,
            "min_height": null,
            "min_width": null,
            "object_fit": null,
            "object_position": null,
            "order": null,
            "overflow": null,
            "overflow_x": null,
            "overflow_y": null,
            "padding": null,
            "right": null,
            "top": null,
            "visibility": null,
            "width": null
          }
        },
        "424651ea6c02493a88e955189cf6873a": {
          "model_module": "@jupyter-widgets/base",
          "model_name": "LayoutModel",
          "model_module_version": "1.2.0",
          "state": {
            "_model_module": "@jupyter-widgets/base",
            "_model_module_version": "1.2.0",
            "_model_name": "LayoutModel",
            "_view_count": null,
            "_view_module": "@jupyter-widgets/base",
            "_view_module_version": "1.2.0",
            "_view_name": "LayoutView",
            "align_content": null,
            "align_items": null,
            "align_self": null,
            "border": null,
            "bottom": null,
            "display": null,
            "flex": null,
            "flex_flow": null,
            "grid_area": null,
            "grid_auto_columns": null,
            "grid_auto_flow": null,
            "grid_auto_rows": null,
            "grid_column": null,
            "grid_gap": null,
            "grid_row": null,
            "grid_template_areas": null,
            "grid_template_columns": null,
            "grid_template_rows": null,
            "height": null,
            "justify_content": null,
            "justify_items": null,
            "left": null,
            "margin": null,
            "max_height": null,
            "max_width": null,
            "min_height": null,
            "min_width": null,
            "object_fit": null,
            "object_position": null,
            "order": null,
            "overflow": null,
            "overflow_x": null,
            "overflow_y": null,
            "padding": null,
            "right": null,
            "top": null,
            "visibility": null,
            "width": null
          }
        },
        "21f056dcdd474882834591d7eac4bf35": {
          "model_module": "@jupyter-widgets/controls",
          "model_name": "DescriptionStyleModel",
          "model_module_version": "1.5.0",
          "state": {
            "_model_module": "@jupyter-widgets/controls",
            "_model_module_version": "1.5.0",
            "_model_name": "DescriptionStyleModel",
            "_view_count": null,
            "_view_module": "@jupyter-widgets/base",
            "_view_module_version": "1.2.0",
            "_view_name": "StyleView",
            "description_width": ""
          }
        },
        "6986351f0659421eaabf1bbe0f9d5740": {
          "model_module": "@jupyter-widgets/base",
          "model_name": "LayoutModel",
          "model_module_version": "1.2.0",
          "state": {
            "_model_module": "@jupyter-widgets/base",
            "_model_module_version": "1.2.0",
            "_model_name": "LayoutModel",
            "_view_count": null,
            "_view_module": "@jupyter-widgets/base",
            "_view_module_version": "1.2.0",
            "_view_name": "LayoutView",
            "align_content": null,
            "align_items": null,
            "align_self": null,
            "border": null,
            "bottom": null,
            "display": null,
            "flex": null,
            "flex_flow": null,
            "grid_area": null,
            "grid_auto_columns": null,
            "grid_auto_flow": null,
            "grid_auto_rows": null,
            "grid_column": null,
            "grid_gap": null,
            "grid_row": null,
            "grid_template_areas": null,
            "grid_template_columns": null,
            "grid_template_rows": null,
            "height": null,
            "justify_content": null,
            "justify_items": null,
            "left": null,
            "margin": null,
            "max_height": null,
            "max_width": null,
            "min_height": null,
            "min_width": null,
            "object_fit": null,
            "object_position": null,
            "order": null,
            "overflow": null,
            "overflow_x": null,
            "overflow_y": null,
            "padding": null,
            "right": null,
            "top": null,
            "visibility": null,
            "width": null
          }
        },
        "bdbd3f2fc55842c9ac4dea37b3577b5b": {
          "model_module": "@jupyter-widgets/controls",
          "model_name": "ProgressStyleModel",
          "model_module_version": "1.5.0",
          "state": {
            "_model_module": "@jupyter-widgets/controls",
            "_model_module_version": "1.5.0",
            "_model_name": "ProgressStyleModel",
            "_view_count": null,
            "_view_module": "@jupyter-widgets/base",
            "_view_module_version": "1.2.0",
            "_view_name": "StyleView",
            "bar_color": null,
            "description_width": ""
          }
        },
        "8aae545b384740cd9b1cc3b31ab74d0c": {
          "model_module": "@jupyter-widgets/base",
          "model_name": "LayoutModel",
          "model_module_version": "1.2.0",
          "state": {
            "_model_module": "@jupyter-widgets/base",
            "_model_module_version": "1.2.0",
            "_model_name": "LayoutModel",
            "_view_count": null,
            "_view_module": "@jupyter-widgets/base",
            "_view_module_version": "1.2.0",
            "_view_name": "LayoutView",
            "align_content": null,
            "align_items": null,
            "align_self": null,
            "border": null,
            "bottom": null,
            "display": null,
            "flex": null,
            "flex_flow": null,
            "grid_area": null,
            "grid_auto_columns": null,
            "grid_auto_flow": null,
            "grid_auto_rows": null,
            "grid_column": null,
            "grid_gap": null,
            "grid_row": null,
            "grid_template_areas": null,
            "grid_template_columns": null,
            "grid_template_rows": null,
            "height": null,
            "justify_content": null,
            "justify_items": null,
            "left": null,
            "margin": null,
            "max_height": null,
            "max_width": null,
            "min_height": null,
            "min_width": null,
            "object_fit": null,
            "object_position": null,
            "order": null,
            "overflow": null,
            "overflow_x": null,
            "overflow_y": null,
            "padding": null,
            "right": null,
            "top": null,
            "visibility": null,
            "width": null
          }
        },
        "df4e55757c654cfdaab45ce05fb8d1e4": {
          "model_module": "@jupyter-widgets/controls",
          "model_name": "DescriptionStyleModel",
          "model_module_version": "1.5.0",
          "state": {
            "_model_module": "@jupyter-widgets/controls",
            "_model_module_version": "1.5.0",
            "_model_name": "DescriptionStyleModel",
            "_view_count": null,
            "_view_module": "@jupyter-widgets/base",
            "_view_module_version": "1.2.0",
            "_view_name": "StyleView",
            "description_width": ""
          }
        },
        "153766f6b4864694b7486eba8a054515": {
          "model_module": "@jupyter-widgets/controls",
          "model_name": "HBoxModel",
          "model_module_version": "1.5.0",
          "state": {
            "_dom_classes": [],
            "_model_module": "@jupyter-widgets/controls",
            "_model_module_version": "1.5.0",
            "_model_name": "HBoxModel",
            "_view_count": null,
            "_view_module": "@jupyter-widgets/controls",
            "_view_module_version": "1.5.0",
            "_view_name": "HBoxView",
            "box_style": "",
            "children": [
              "IPY_MODEL_94c81fc06401405d9cb0d48e716d5da8",
              "IPY_MODEL_46e9b90e03d2467cbf899cba32ea40ad",
              "IPY_MODEL_038fcd9f3e684fe2aae4fd7a58bff624"
            ],
            "layout": "IPY_MODEL_92e2876dd6c74cdcae11be38e1813500"
          }
        },
        "94c81fc06401405d9cb0d48e716d5da8": {
          "model_module": "@jupyter-widgets/controls",
          "model_name": "HTMLModel",
          "model_module_version": "1.5.0",
          "state": {
            "_dom_classes": [],
            "_model_module": "@jupyter-widgets/controls",
            "_model_module_version": "1.5.0",
            "_model_name": "HTMLModel",
            "_view_count": null,
            "_view_module": "@jupyter-widgets/controls",
            "_view_module_version": "1.5.0",
            "_view_name": "HTMLView",
            "description": "",
            "description_tooltip": null,
            "layout": "IPY_MODEL_46040e664dbe4f0baadca3294c9868eb",
            "placeholder": "​",
            "style": "IPY_MODEL_a3d8e98380414d20a0a9723243578017",
            "value": "Downloading: 100%"
          }
        },
        "46e9b90e03d2467cbf899cba32ea40ad": {
          "model_module": "@jupyter-widgets/controls",
          "model_name": "FloatProgressModel",
          "model_module_version": "1.5.0",
          "state": {
            "_dom_classes": [],
            "_model_module": "@jupyter-widgets/controls",
            "_model_module_version": "1.5.0",
            "_model_name": "FloatProgressModel",
            "_view_count": null,
            "_view_module": "@jupyter-widgets/controls",
            "_view_module_version": "1.5.0",
            "_view_name": "ProgressView",
            "bar_style": "success",
            "description": "",
            "description_tooltip": null,
            "layout": "IPY_MODEL_bed0dfa790994dfc959a3277af667a6e",
            "max": 267967963,
            "min": 0,
            "orientation": "horizontal",
            "style": "IPY_MODEL_b5b3836d06664b4d99308da712536855",
            "value": 267967963
          }
        },
        "038fcd9f3e684fe2aae4fd7a58bff624": {
          "model_module": "@jupyter-widgets/controls",
          "model_name": "HTMLModel",
          "model_module_version": "1.5.0",
          "state": {
            "_dom_classes": [],
            "_model_module": "@jupyter-widgets/controls",
            "_model_module_version": "1.5.0",
            "_model_name": "HTMLModel",
            "_view_count": null,
            "_view_module": "@jupyter-widgets/controls",
            "_view_module_version": "1.5.0",
            "_view_name": "HTMLView",
            "description": "",
            "description_tooltip": null,
            "layout": "IPY_MODEL_4e655e5be04a4c2b9a60e5987d26966e",
            "placeholder": "​",
            "style": "IPY_MODEL_b068348f7b414ff4b40c59addc9fb649",
            "value": " 268M/268M [00:12&lt;00:00, 11.5MB/s]"
          }
        },
        "92e2876dd6c74cdcae11be38e1813500": {
          "model_module": "@jupyter-widgets/base",
          "model_name": "LayoutModel",
          "model_module_version": "1.2.0",
          "state": {
            "_model_module": "@jupyter-widgets/base",
            "_model_module_version": "1.2.0",
            "_model_name": "LayoutModel",
            "_view_count": null,
            "_view_module": "@jupyter-widgets/base",
            "_view_module_version": "1.2.0",
            "_view_name": "LayoutView",
            "align_content": null,
            "align_items": null,
            "align_self": null,
            "border": null,
            "bottom": null,
            "display": null,
            "flex": null,
            "flex_flow": null,
            "grid_area": null,
            "grid_auto_columns": null,
            "grid_auto_flow": null,
            "grid_auto_rows": null,
            "grid_column": null,
            "grid_gap": null,
            "grid_row": null,
            "grid_template_areas": null,
            "grid_template_columns": null,
            "grid_template_rows": null,
            "height": null,
            "justify_content": null,
            "justify_items": null,
            "left": null,
            "margin": null,
            "max_height": null,
            "max_width": null,
            "min_height": null,
            "min_width": null,
            "object_fit": null,
            "object_position": null,
            "order": null,
            "overflow": null,
            "overflow_x": null,
            "overflow_y": null,
            "padding": null,
            "right": null,
            "top": null,
            "visibility": null,
            "width": null
          }
        },
        "46040e664dbe4f0baadca3294c9868eb": {
          "model_module": "@jupyter-widgets/base",
          "model_name": "LayoutModel",
          "model_module_version": "1.2.0",
          "state": {
            "_model_module": "@jupyter-widgets/base",
            "_model_module_version": "1.2.0",
            "_model_name": "LayoutModel",
            "_view_count": null,
            "_view_module": "@jupyter-widgets/base",
            "_view_module_version": "1.2.0",
            "_view_name": "LayoutView",
            "align_content": null,
            "align_items": null,
            "align_self": null,
            "border": null,
            "bottom": null,
            "display": null,
            "flex": null,
            "flex_flow": null,
            "grid_area": null,
            "grid_auto_columns": null,
            "grid_auto_flow": null,
            "grid_auto_rows": null,
            "grid_column": null,
            "grid_gap": null,
            "grid_row": null,
            "grid_template_areas": null,
            "grid_template_columns": null,
            "grid_template_rows": null,
            "height": null,
            "justify_content": null,
            "justify_items": null,
            "left": null,
            "margin": null,
            "max_height": null,
            "max_width": null,
            "min_height": null,
            "min_width": null,
            "object_fit": null,
            "object_position": null,
            "order": null,
            "overflow": null,
            "overflow_x": null,
            "overflow_y": null,
            "padding": null,
            "right": null,
            "top": null,
            "visibility": null,
            "width": null
          }
        },
        "a3d8e98380414d20a0a9723243578017": {
          "model_module": "@jupyter-widgets/controls",
          "model_name": "DescriptionStyleModel",
          "model_module_version": "1.5.0",
          "state": {
            "_model_module": "@jupyter-widgets/controls",
            "_model_module_version": "1.5.0",
            "_model_name": "DescriptionStyleModel",
            "_view_count": null,
            "_view_module": "@jupyter-widgets/base",
            "_view_module_version": "1.2.0",
            "_view_name": "StyleView",
            "description_width": ""
          }
        },
        "bed0dfa790994dfc959a3277af667a6e": {
          "model_module": "@jupyter-widgets/base",
          "model_name": "LayoutModel",
          "model_module_version": "1.2.0",
          "state": {
            "_model_module": "@jupyter-widgets/base",
            "_model_module_version": "1.2.0",
            "_model_name": "LayoutModel",
            "_view_count": null,
            "_view_module": "@jupyter-widgets/base",
            "_view_module_version": "1.2.0",
            "_view_name": "LayoutView",
            "align_content": null,
            "align_items": null,
            "align_self": null,
            "border": null,
            "bottom": null,
            "display": null,
            "flex": null,
            "flex_flow": null,
            "grid_area": null,
            "grid_auto_columns": null,
            "grid_auto_flow": null,
            "grid_auto_rows": null,
            "grid_column": null,
            "grid_gap": null,
            "grid_row": null,
            "grid_template_areas": null,
            "grid_template_columns": null,
            "grid_template_rows": null,
            "height": null,
            "justify_content": null,
            "justify_items": null,
            "left": null,
            "margin": null,
            "max_height": null,
            "max_width": null,
            "min_height": null,
            "min_width": null,
            "object_fit": null,
            "object_position": null,
            "order": null,
            "overflow": null,
            "overflow_x": null,
            "overflow_y": null,
            "padding": null,
            "right": null,
            "top": null,
            "visibility": null,
            "width": null
          }
        },
        "b5b3836d06664b4d99308da712536855": {
          "model_module": "@jupyter-widgets/controls",
          "model_name": "ProgressStyleModel",
          "model_module_version": "1.5.0",
          "state": {
            "_model_module": "@jupyter-widgets/controls",
            "_model_module_version": "1.5.0",
            "_model_name": "ProgressStyleModel",
            "_view_count": null,
            "_view_module": "@jupyter-widgets/base",
            "_view_module_version": "1.2.0",
            "_view_name": "StyleView",
            "bar_color": null,
            "description_width": ""
          }
        },
        "4e655e5be04a4c2b9a60e5987d26966e": {
          "model_module": "@jupyter-widgets/base",
          "model_name": "LayoutModel",
          "model_module_version": "1.2.0",
          "state": {
            "_model_module": "@jupyter-widgets/base",
            "_model_module_version": "1.2.0",
            "_model_name": "LayoutModel",
            "_view_count": null,
            "_view_module": "@jupyter-widgets/base",
            "_view_module_version": "1.2.0",
            "_view_name": "LayoutView",
            "align_content": null,
            "align_items": null,
            "align_self": null,
            "border": null,
            "bottom": null,
            "display": null,
            "flex": null,
            "flex_flow": null,
            "grid_area": null,
            "grid_auto_columns": null,
            "grid_auto_flow": null,
            "grid_auto_rows": null,
            "grid_column": null,
            "grid_gap": null,
            "grid_row": null,
            "grid_template_areas": null,
            "grid_template_columns": null,
            "grid_template_rows": null,
            "height": null,
            "justify_content": null,
            "justify_items": null,
            "left": null,
            "margin": null,
            "max_height": null,
            "max_width": null,
            "min_height": null,
            "min_width": null,
            "object_fit": null,
            "object_position": null,
            "order": null,
            "overflow": null,
            "overflow_x": null,
            "overflow_y": null,
            "padding": null,
            "right": null,
            "top": null,
            "visibility": null,
            "width": null
          }
        },
        "b068348f7b414ff4b40c59addc9fb649": {
          "model_module": "@jupyter-widgets/controls",
          "model_name": "DescriptionStyleModel",
          "model_module_version": "1.5.0",
          "state": {
            "_model_module": "@jupyter-widgets/controls",
            "_model_module_version": "1.5.0",
            "_model_name": "DescriptionStyleModel",
            "_view_count": null,
            "_view_module": "@jupyter-widgets/base",
            "_view_module_version": "1.2.0",
            "_view_name": "StyleView",
            "description_width": ""
          }
        }
      }
    }
  },
  "nbformat": 4,
  "nbformat_minor": 0
}